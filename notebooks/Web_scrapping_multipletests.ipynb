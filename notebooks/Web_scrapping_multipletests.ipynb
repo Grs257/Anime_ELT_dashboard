{
 "cells": [
  {
   "cell_type": "markdown",
   "id": "f0268469-fb31-4c18-b7a1-d99ceae58ff3",
   "metadata": {},
   "source": [
    "# Web scrapping multiple tests"
   ]
  },
  {
   "cell_type": "code",
   "execution_count": 1,
   "id": "8450543d-299d-4a31-9671-86ec60365895",
   "metadata": {
    "tags": []
   },
   "outputs": [],
   "source": [
    "# Import required libraries\n",
    "import requests\n",
    "from bs4 import BeautifulSoup\n",
    "import pandas as pd\n",
    "import re"
   ]
  },
  {
   "cell_type": "code",
   "execution_count": 2,
   "id": "86c10785-f55e-479f-94b2-3c6ef496f593",
   "metadata": {
    "tags": []
   },
   "outputs": [],
   "source": [
    "#Function to send an HTTP request and parse the HTML content of the page\n",
    "def fetch_html(url):\n",
    "    response = requests.get(url)  # Send an HTTP GET request to the URL\n",
    "    if response.status_code == 200:  # Check if the request was successful (status code 200)\n",
    "        # Parse the response content with BeautifulSoup and return the parsed HTML\n",
    "        return BeautifulSoup(response.content, 'lxml')\n",
    "    else:\n",
    "        return None"
   ]
  },
  {
   "cell_type": "code",
   "execution_count": 3,
   "id": "59dc2eb1-3dab-487f-be51-83a98fa36cd3",
   "metadata": {
    "tags": []
   },
   "outputs": [],
   "source": [
    "url = \"https://myanimelist.net/topanime.php\"  # Define the target URL\n",
    "soup = fetch_html(url)  # Fetch and parse the HTML content from the URL"
   ]
  },
  {
   "cell_type": "markdown",
   "id": "ff2d3c75-192a-4a1d-9ddc-238c3bed9e96",
   "metadata": {},
   "source": [
    "# Scrapping Shingeki no Kyojin"
   ]
  },
  {
   "cell_type": "markdown",
   "id": "2616857d-6290-4cb4-9636-f2ce54ca3cf1",
   "metadata": {
    "tags": []
   },
   "source": [
    "## Anime Ranking "
   ]
  },
  {
   "cell_type": "code",
   "execution_count": 4,
   "id": "d92a0aaa-79b7-4807-8761-6b62ffd3a336",
   "metadata": {
    "tags": []
   },
   "outputs": [
    {
     "data": {
      "text/plain": [
       "'1'"
      ]
     },
     "execution_count": 4,
     "metadata": {},
     "output_type": "execute_result"
    }
   ],
   "source": [
    "soup.find('span',class_=\"lightLink top-anime-rank-text rank1\").text"
   ]
  },
  {
   "cell_type": "markdown",
   "id": "b5401ccb-692f-4d19-8918-36a333f79639",
   "metadata": {},
   "source": [
    "## Anime Score"
   ]
  },
  {
   "cell_type": "code",
   "execution_count": 5,
   "id": "8a130521-87a6-433d-998f-033021d976f2",
   "metadata": {
    "tags": []
   },
   "outputs": [
    {
     "data": {
      "text/plain": [
       "'9.13'"
      ]
     },
     "execution_count": 5,
     "metadata": {},
     "output_type": "execute_result"
    }
   ],
   "source": [
    "soup.find('span',class_=\"text on score-label score-9\").text"
   ]
  },
  {
   "cell_type": "markdown",
   "id": "24f8b1f6-1513-4f88-b424-a15f648ceacb",
   "metadata": {},
   "source": [
    "### Anime name"
   ]
  },
  {
   "cell_type": "code",
   "execution_count": 6,
   "id": "ccc53f46-b340-4b9a-b91d-06db0df59d4a",
   "metadata": {
    "tags": []
   },
   "outputs": [
    {
     "data": {
      "text/plain": [
       "'Shingeki no Kyojin: The Final Season - Kanketsu-hen'"
      ]
     },
     "execution_count": 6,
     "metadata": {},
     "output_type": "execute_result"
    }
   ],
   "source": [
    "soup.find('div',class_=\"di-ib clearfix\").a.text"
   ]
  },
  {
   "cell_type": "markdown",
   "id": "df55152a-7333-46c2-b150-3fe23e95bdb7",
   "metadata": {},
   "source": [
    "### Anime URL"
   ]
  },
  {
   "cell_type": "code",
   "execution_count": 7,
   "id": "c8b7f260-ef87-4640-873f-1c664ef36340",
   "metadata": {
    "tags": []
   },
   "outputs": [
    {
     "data": {
      "text/plain": [
       "'https://myanimelist.net/anime/51535/Shingeki_no_Kyojin__The_Final_Season_-_Kanketsu-hen'"
      ]
     },
     "execution_count": 7,
     "metadata": {},
     "output_type": "execute_result"
    }
   ],
   "source": [
    "soup.find('div', class_=\"di-ib clearfix\").a['href']"
   ]
  },
  {
   "cell_type": "markdown",
   "id": "ebc1fffb-0d81-4e11-b7f1-10cfa9df0c99",
   "metadata": {},
   "source": [
    "### Number of episodes"
   ]
  },
  {
   "cell_type": "code",
   "execution_count": 8,
   "id": "31cf13d2-a7e0-44ea-9f90-fbe959c8704f",
   "metadata": {
    "tags": []
   },
   "outputs": [
    {
     "data": {
      "text/plain": [
       "'Special (2 eps)'"
      ]
     },
     "execution_count": 8,
     "metadata": {},
     "output_type": "execute_result"
    }
   ],
   "source": [
    "soup.find('div',class_=\"information di-ib mt4\").text.split('\\n')[1].strip()"
   ]
  },
  {
   "cell_type": "markdown",
   "id": "b49b9263-fbb1-41c1-b77f-0847c0f67de6",
   "metadata": {},
   "source": [
    "### Emission date"
   ]
  },
  {
   "cell_type": "code",
   "execution_count": 9,
   "id": "756377ce-6b1c-4f8c-8da4-6e51b9115222",
   "metadata": {
    "tags": []
   },
   "outputs": [
    {
     "data": {
      "text/plain": [
       "'Mar 2023 - 2023'"
      ]
     },
     "execution_count": 9,
     "metadata": {},
     "output_type": "execute_result"
    }
   ],
   "source": [
    "soup.find('div',class_=\"information di-ib mt4\").text.split('\\n')[2].strip()"
   ]
  },
  {
   "cell_type": "markdown",
   "id": "9646d36f-6006-4a2d-a8ed-db8ffcdcacdb",
   "metadata": {},
   "source": [
    "### Number of members"
   ]
  },
  {
   "cell_type": "code",
   "execution_count": 10,
   "id": "f7046e33-cff0-421b-aca4-264c49ba99a7",
   "metadata": {
    "tags": []
   },
   "outputs": [
    {
     "data": {
      "text/plain": [
       "'370,323 members'"
      ]
     },
     "execution_count": 10,
     "metadata": {},
     "output_type": "execute_result"
    }
   ],
   "source": [
    "soup.find('div',class_=\"information di-ib mt4\").text.split('\\n')[3].strip()"
   ]
  },
  {
   "cell_type": "markdown",
   "id": "07d2f4a5-5708-4495-9144-ef03b3c632e1",
   "metadata": {},
   "source": [
    "# For every anime"
   ]
  },
  {
   "cell_type": "markdown",
   "id": "ce9ccd64-e7ad-4602-93be-e2de308b8346",
   "metadata": {},
   "source": [
    "Each anime is stored in the \"tr class=\"ranking-list\"\" object which contains all the above information for each anime"
   ]
  },
  {
   "cell_type": "code",
   "execution_count": 11,
   "id": "33371454-472d-4ee7-902f-6c0a8bc9a71f",
   "metadata": {
    "tags": []
   },
   "outputs": [
    {
     "data": {
      "text/plain": [
       "<tr class=\"ranking-list\">\n",
       "<td class=\"rank ac\" valign=\"top\">\n",
       "<span class=\"lightLink top-anime-rank-text rank1\">1</span>\n",
       "</td>\n",
       "<td class=\"title al va-t word-break\">\n",
       "<a class=\"hoverinfo_trigger fl-l ml12 mr8\" href=\"https://myanimelist.net/anime/51535/Shingeki_no_Kyojin__The_Final_Season_-_Kanketsu-hen\" id=\"#area51535\" rel=\"#info51535\">\n",
       "<img alt=\"Anime: Shingeki no Kyojin: The Final Season - Kanketsu-hen\" border=\"0\" class=\"lazyload\" data-src=\"https://cdn.myanimelist.net/r/50x70/images/anime/1279/131078.jpg?s=d6d04a0dcc347ba55e0243b75b0ad5dd\" data-srcset=\"https://cdn.myanimelist.net/r/50x70/images/anime/1279/131078.jpg?s=d6d04a0dcc347ba55e0243b75b0ad5dd 1x, https://cdn.myanimelist.net/r/100x140/images/anime/1279/131078.jpg?s=1b0db37795fa4240d5b66641643f76bb 2x\" height=\"70\" width=\"50\"/>\n",
       "</a>\n",
       "<div class=\"detail\"><div id=\"area51535\">\n",
       "<div class=\"hoverinfo\" id=\"info51535\" rel=\"a51535\"></div>\n",
       "</div>\n",
       "<div class=\"di-ib clearfix\"><h3 class=\"hoverinfo_trigger fl-l fs14 fw-b anime_ranking_h3\"><a href=\"https://myanimelist.net/anime/51535/Shingeki_no_Kyojin__The_Final_Season_-_Kanketsu-hen\" id=\"#area51535\" rel=\"#info51535\">Shingeki no Kyojin: The Final Season - Kanketsu-hen</a></h3><div class=\"icon-watch-pv2\"><a class=\"mal-icon ml8 ga-click\" href=\"https://myanimelist.net/anime/51535/Shingeki_no_Kyojin__The_Final_Season_-_Kanketsu-hen/video\" title=\"Watch Promotional Video\"><i class=\"malicon malicon-movie-pv\"></i></a></div></div><br/><div class=\"information di-ib mt4\">\n",
       "        Special (2 eps)<br/>\n",
       "        Mar 2023 - 2023<br/>\n",
       "        370,323 members\n",
       "      </div></div>\n",
       "</td>\n",
       "<td class=\"score ac fs14\"><div class=\"js-top-ranking-score-col di-ib al\"><i class=\"icon-score-star fa-solid fa-star mr4 on\"></i><span class=\"text on score-label score-9\">9.13</span></div>\n",
       "</td>\n",
       "<td class=\"your-score ac fs14\">\n",
       "<div class=\"js-top-ranking-your-score-col di-ib al\"> <a class=\"\" href=\"https://myanimelist.net/login.php?error=login_required&amp;from=%2Ftopanime.php\"><i class=\"icon-score-star fa-solid fa-star mr4\"></i><span class=\"text score-label score-na\">N/A</span></a>\n",
       "</div>\n",
       "</td>\n",
       "<td class=\"status ac\"> <a class=\"btn-addEdit-large btn-anime-watch-status js-anime-watch-status notinmylist\" href=\"https://myanimelist.net/login.php?error=login_required&amp;from=%2Ftopanime.php\"><i class=\"fa-solid fa-square-plus-o mr4\"></i>Add to list</a>\n",
       "</td>\n",
       "</tr>"
      ]
     },
     "execution_count": 11,
     "metadata": {},
     "output_type": "execute_result"
    }
   ],
   "source": [
    "soup.find('tr',class_=\"ranking-list\")"
   ]
  },
  {
   "cell_type": "code",
   "execution_count": 12,
   "id": "2fccb415-fddb-4071-915c-dc09f3f3b169",
   "metadata": {
    "tags": []
   },
   "outputs": [
    {
     "data": {
      "text/plain": [
       "'1'"
      ]
     },
     "execution_count": 12,
     "metadata": {},
     "output_type": "execute_result"
    }
   ],
   "source": [
    "soup.find('tr',class_=\"ranking-list\").span.text"
   ]
  },
  {
   "cell_type": "code",
   "execution_count": 13,
   "id": "0fedc1f8-1456-4be8-8d5d-7509dd82108d",
   "metadata": {
    "tags": []
   },
   "outputs": [],
   "source": [
    "# Find the first 'tr' element with class 'ranking-list'\n",
    "tr_element = soup.find('tr', class_=\"ranking-list\")\n",
    "\n",
    "# Find all 'span' elements within the 'tr' element\n",
    "span_elements = tr_element.find_all('span')"
   ]
  },
  {
   "cell_type": "code",
   "execution_count": 14,
   "id": "b793946d-8b80-4587-b88c-ed9a26287002",
   "metadata": {
    "tags": []
   },
   "outputs": [
    {
     "data": {
      "text/plain": [
       "[<span class=\"lightLink top-anime-rank-text rank1\">1</span>,\n",
       " <span class=\"text on score-label score-9\">9.13</span>,\n",
       " <span class=\"text score-label score-na\">N/A</span>]"
      ]
     },
     "execution_count": 14,
     "metadata": {},
     "output_type": "execute_result"
    }
   ],
   "source": [
    "span_elements"
   ]
  },
  {
   "cell_type": "code",
   "execution_count": 15,
   "id": "b62c762b-e021-4701-93a3-d8d308a4a533",
   "metadata": {
    "tags": []
   },
   "outputs": [
    {
     "data": {
      "text/plain": [
       "'1'"
      ]
     },
     "execution_count": 15,
     "metadata": {},
     "output_type": "execute_result"
    }
   ],
   "source": [
    "span_elements[0].text"
   ]
  },
  {
   "cell_type": "code",
   "execution_count": 16,
   "id": "a5eee26e-2bc7-46ff-bd3f-51d2ce31bcbc",
   "metadata": {
    "tags": []
   },
   "outputs": [
    {
     "data": {
      "text/plain": [
       "'9.13'"
      ]
     },
     "execution_count": 16,
     "metadata": {},
     "output_type": "execute_result"
    }
   ],
   "source": [
    "span_elements[1].text"
   ]
  },
  {
   "cell_type": "code",
   "execution_count": 17,
   "id": "3e338fda-81ea-4c70-982b-c8cb8564bdfa",
   "metadata": {
    "tags": []
   },
   "outputs": [],
   "source": [
    "div_elements = tr_element.find('div', class_=\"detail\")"
   ]
  },
  {
   "cell_type": "code",
   "execution_count": 18,
   "id": "e069cb4d-d166-43b5-bffa-397f8bf7374f",
   "metadata": {
    "tags": []
   },
   "outputs": [
    {
     "data": {
      "text/plain": [
       "<div class=\"detail\"><div id=\"area51535\">\n",
       "<div class=\"hoverinfo\" id=\"info51535\" rel=\"a51535\"></div>\n",
       "</div>\n",
       "<div class=\"di-ib clearfix\"><h3 class=\"hoverinfo_trigger fl-l fs14 fw-b anime_ranking_h3\"><a href=\"https://myanimelist.net/anime/51535/Shingeki_no_Kyojin__The_Final_Season_-_Kanketsu-hen\" id=\"#area51535\" rel=\"#info51535\">Shingeki no Kyojin: The Final Season - Kanketsu-hen</a></h3><div class=\"icon-watch-pv2\"><a class=\"mal-icon ml8 ga-click\" href=\"https://myanimelist.net/anime/51535/Shingeki_no_Kyojin__The_Final_Season_-_Kanketsu-hen/video\" title=\"Watch Promotional Video\"><i class=\"malicon malicon-movie-pv\"></i></a></div></div><br/><div class=\"information di-ib mt4\">\n",
       "        Special (2 eps)<br/>\n",
       "        Mar 2023 - 2023<br/>\n",
       "        370,323 members\n",
       "      </div></div>"
      ]
     },
     "execution_count": 18,
     "metadata": {},
     "output_type": "execute_result"
    }
   ],
   "source": [
    "div_elements"
   ]
  },
  {
   "cell_type": "code",
   "execution_count": 19,
   "id": "68b45c2c-c5d4-4380-bb1e-542c7872760b",
   "metadata": {
    "tags": []
   },
   "outputs": [
    {
     "data": {
      "text/plain": [
       "'1'"
      ]
     },
     "execution_count": 19,
     "metadata": {},
     "output_type": "execute_result"
    }
   ],
   "source": [
    "soup.find('span', class_=\"lightLink top-anime-rank-text rank1\").text"
   ]
  },
  {
   "cell_type": "markdown",
   "id": "f545ca71-b621-46e8-b227-7624e16b60cb",
   "metadata": {},
   "source": [
    "# First 50 animes"
   ]
  },
  {
   "cell_type": "code",
   "execution_count": 20,
   "id": "1d7f2d2f-1e03-405e-b600-2c45fe520bdb",
   "metadata": {
    "tags": []
   },
   "outputs": [],
   "source": [
    "# Create empty lists to store the extracted information\n",
    "rankings = []\n",
    "scores = []\n",
    "titles = []\n",
    "number_episodes_list = []\n",
    "emission_dates = []\n",
    "members_list = []\n",
    "urls= []\n",
    "\n",
    "\n",
    "# Loop through each anime element and extract the information\n",
    "for anime_element in soup.find_all('tr', class_='ranking-list'):\n",
    "    # getting the span elements inside the element of ranking-list\n",
    "    span_elements = anime_element.find_all('span')\n",
    "    ranking = span_elements[0].text\n",
    "    score = span_elements[1].text\n",
    "    title = anime_element.find('div',class_=\"di-ib clearfix\").a.text\n",
    "    number_episodes = anime_element.find('div',class_=\"information di-ib mt4\").text.split('\\n')[1].strip()\n",
    "    emission_date = anime_element.find('div',class_=\"information di-ib mt4\").text.split('\\n')[2].strip()\n",
    "    members = anime_element.find('div', class_=\"information di-ib mt4\").text.split('\\n')[3].strip()\n",
    "    url= anime_element.find('div', class_=\"di-ib clearfix\").a['href']\n",
    "\n",
    "    # Append the extracted information to the lists\n",
    "    rankings.append(ranking)\n",
    "    scores.append(score)\n",
    "    titles.append(title)\n",
    "    number_episodes_list.append(number_episodes)\n",
    "    emission_dates.append(emission_date)\n",
    "    members_list.append(members)\n",
    "    urls.append(url)\n",
    "    \n",
    "\n",
    "# Create a dictionary with keys as column names and values as the lists of extracted data\n",
    "data = {\n",
    "    'ranking': rankings,\n",
    "    'score': scores,\n",
    "    'title': titles,\n",
    "    'number_of_episodes': number_episodes_list,\n",
    "    'emission_date': emission_dates,\n",
    "    'number_members': members_list,\n",
    "    'url': urls\n",
    "}\n",
    "\n",
    "# Convert the dictionary to a pandas DataFrame\n",
    "df = pd.DataFrame(data)"
   ]
  },
  {
   "cell_type": "markdown",
   "id": "214efdcf-d83a-42f8-b476-afbac7ca3ae3",
   "metadata": {},
   "source": [
    "## Cleaning Pandas Dataframe"
   ]
  },
  {
   "cell_type": "code",
   "execution_count": 21,
   "id": "d3fac415-218f-4bf4-93e7-ad5dc80f6ffd",
   "metadata": {
    "tags": []
   },
   "outputs": [],
   "source": [
    "top_anime = (\n",
    "    df\n",
    "        .assign(\n",
    "            type_of_emission = lambda df_: df_['number_of_episodes'].str.extract(r'(\\D+)'),\n",
    "            emission_type = lambda df_: df_['type_of_emission'].str.replace('(', '', regex=True),\n",
    "            number_episode = lambda df_: df_['number_of_episodes'].str.extract(r'(\\d+)'),\n",
    "            miembros = lambda df_: df_['number_members'].str.replace('members', '', regex=True),\n",
    "            members = lambda df_: df_['miembros'].str.replace(',', '', regex=True)\n",
    "        #end assign\n",
    "        )\n",
    "        .drop(columns= ['number_of_episodes','type_of_emission','miembros','number_members'])\n",
    "    #end preprocessing\n",
    "    )"
   ]
  },
  {
   "cell_type": "code",
   "execution_count": 22,
   "id": "d17f1167-51cd-48d2-a255-eac74f449d4f",
   "metadata": {
    "tags": []
   },
   "outputs": [],
   "source": [
    "# Split the 'emission_date' column into two new columns using the ' - ' delimiter\n",
    "split_columns = top_anime['emission_date'].str.split(' - ', expand=True)\n",
    "\n",
    "top_anime = (\n",
    "    top_anime\n",
    "        .assign(\n",
    "            # Assign the new columns to the original DataFrame with the desired names\n",
    "            first_emission = split_columns[0],\n",
    "            last_emission  = split_columns[1],\n",
    "            #ist_emission = lambda df_:df_['first_emission_y'].to_datetime(format='%b %Y')\n",
    "            #df['last_emission'] = pd.to_datetime(df['last_emission'], format='%b %Y')\n",
    "        ))\n",
    "\n",
    "\n",
    "top_anime['first_emission'] = pd.to_datetime(top_anime['first_emission'], format='%b %Y', errors='coerce')\n",
    "top_anime['last_emission'] = pd.to_datetime(top_anime['last_emission'], format='%b %Y', errors='coerce')\n",
    "\n",
    "\n"
   ]
  },
  {
   "cell_type": "code",
   "execution_count": 23,
   "id": "4a67b247-bf75-4ef2-8f67-514a67552c3a",
   "metadata": {
    "tags": []
   },
   "outputs": [
    {
     "data": {
      "text/html": [
       "<div>\n",
       "<style scoped>\n",
       "    .dataframe tbody tr th:only-of-type {\n",
       "        vertical-align: middle;\n",
       "    }\n",
       "\n",
       "    .dataframe tbody tr th {\n",
       "        vertical-align: top;\n",
       "    }\n",
       "\n",
       "    .dataframe thead th {\n",
       "        text-align: right;\n",
       "    }\n",
       "</style>\n",
       "<table border=\"1\" class=\"dataframe\">\n",
       "  <thead>\n",
       "    <tr style=\"text-align: right;\">\n",
       "      <th></th>\n",
       "      <th>ranking</th>\n",
       "      <th>score</th>\n",
       "      <th>title</th>\n",
       "      <th>emission_date</th>\n",
       "      <th>url</th>\n",
       "      <th>emission_type</th>\n",
       "      <th>number_episode</th>\n",
       "      <th>members</th>\n",
       "      <th>first_emission</th>\n",
       "      <th>last_emission</th>\n",
       "    </tr>\n",
       "  </thead>\n",
       "  <tbody>\n",
       "    <tr>\n",
       "      <th>0</th>\n",
       "      <td>1</td>\n",
       "      <td>9.13</td>\n",
       "      <td>Shingeki no Kyojin: The Final Season - Kankets...</td>\n",
       "      <td>Mar 2023 - 2023</td>\n",
       "      <td>https://myanimelist.net/anime/51535/Shingeki_n...</td>\n",
       "      <td>Special</td>\n",
       "      <td>2</td>\n",
       "      <td>370323</td>\n",
       "      <td>2023-03-01</td>\n",
       "      <td>NaT</td>\n",
       "    </tr>\n",
       "    <tr>\n",
       "      <th>1</th>\n",
       "      <td>2</td>\n",
       "      <td>9.11</td>\n",
       "      <td>Fullmetal Alchemist: Brotherhood</td>\n",
       "      <td>Apr 2009 - Jul 2010</td>\n",
       "      <td>https://myanimelist.net/anime/5114/Fullmetal_A...</td>\n",
       "      <td>TV</td>\n",
       "      <td>64</td>\n",
       "      <td>3119535</td>\n",
       "      <td>2009-04-01</td>\n",
       "      <td>2010-07-01</td>\n",
       "    </tr>\n",
       "    <tr>\n",
       "      <th>2</th>\n",
       "      <td>3</td>\n",
       "      <td>9.08</td>\n",
       "      <td>Bleach: Sennen Kessen-hen</td>\n",
       "      <td>Oct 2022 - Dec 2022</td>\n",
       "      <td>https://myanimelist.net/anime/41467/Bleach__Se...</td>\n",
       "      <td>TV</td>\n",
       "      <td>13</td>\n",
       "      <td>410998</td>\n",
       "      <td>2022-10-01</td>\n",
       "      <td>2022-12-01</td>\n",
       "    </tr>\n",
       "    <tr>\n",
       "      <th>3</th>\n",
       "      <td>4</td>\n",
       "      <td>9.08</td>\n",
       "      <td>Steins;Gate</td>\n",
       "      <td>Apr 2011 - Sep 2011</td>\n",
       "      <td>https://myanimelist.net/anime/9253/Steins_Gate</td>\n",
       "      <td>TV</td>\n",
       "      <td>24</td>\n",
       "      <td>2400946</td>\n",
       "      <td>2011-04-01</td>\n",
       "      <td>2011-09-01</td>\n",
       "    </tr>\n",
       "    <tr>\n",
       "      <th>4</th>\n",
       "      <td>5</td>\n",
       "      <td>9.07</td>\n",
       "      <td>Gintama°</td>\n",
       "      <td>Apr 2015 - Mar 2016</td>\n",
       "      <td>https://myanimelist.net/anime/28977/Gintama°</td>\n",
       "      <td>TV</td>\n",
       "      <td>51</td>\n",
       "      <td>584045</td>\n",
       "      <td>2015-04-01</td>\n",
       "      <td>2016-03-01</td>\n",
       "    </tr>\n",
       "  </tbody>\n",
       "</table>\n",
       "</div>"
      ],
      "text/plain": [
       "  ranking score                                              title  \\\n",
       "0       1  9.13  Shingeki no Kyojin: The Final Season - Kankets...   \n",
       "1       2  9.11                   Fullmetal Alchemist: Brotherhood   \n",
       "2       3  9.08                          Bleach: Sennen Kessen-hen   \n",
       "3       4  9.08                                        Steins;Gate   \n",
       "4       5  9.07                                           Gintama°   \n",
       "\n",
       "         emission_date                                                url  \\\n",
       "0      Mar 2023 - 2023  https://myanimelist.net/anime/51535/Shingeki_n...   \n",
       "1  Apr 2009 - Jul 2010  https://myanimelist.net/anime/5114/Fullmetal_A...   \n",
       "2  Oct 2022 - Dec 2022  https://myanimelist.net/anime/41467/Bleach__Se...   \n",
       "3  Apr 2011 - Sep 2011     https://myanimelist.net/anime/9253/Steins_Gate   \n",
       "4  Apr 2015 - Mar 2016       https://myanimelist.net/anime/28977/Gintama°   \n",
       "\n",
       "  emission_type number_episode   members first_emission last_emission  \n",
       "0      Special               2   370323      2023-03-01           NaT  \n",
       "1           TV              64  3119535      2009-04-01    2010-07-01  \n",
       "2           TV              13   410998      2022-10-01    2022-12-01  \n",
       "3           TV              24  2400946      2011-04-01    2011-09-01  \n",
       "4           TV              51   584045      2015-04-01    2016-03-01  "
      ]
     },
     "execution_count": 23,
     "metadata": {},
     "output_type": "execute_result"
    }
   ],
   "source": [
    "top_anime.head()"
   ]
  },
  {
   "cell_type": "markdown",
   "id": "2798aebe-c903-49cf-a1f9-158aee71c5b3",
   "metadata": {},
   "source": [
    "### Adding web scrapping of detailed information"
   ]
  },
  {
   "cell_type": "markdown",
   "id": "2b0626e6-f13c-484e-8622-8db88b2f1ae5",
   "metadata": {},
   "source": [
    "### Example anime scrapping detailed information"
   ]
  },
  {
   "cell_type": "code",
   "execution_count": 28,
   "id": "e1505456-6b2e-497c-b0c6-07d85b7c6f58",
   "metadata": {
    "tags": []
   },
   "outputs": [
    {
     "name": "stdout",
     "output_type": "stream",
     "text": [
      "https://myanimelist.net/anime/51535/Shingeki_no_Kyojin__The_Final_Season_-_Kanketsu-hen\n"
     ]
    }
   ],
   "source": [
    "url=top_anime['url'][0]\n",
    "print(url)\n",
    "soup = fetch_html(url) "
   ]
  },
  {
   "cell_type": "code",
   "execution_count": 56,
   "id": "5b7e17a3-594f-4369-8743-51396e9ab2d3",
   "metadata": {
    "tags": []
   },
   "outputs": [
    {
     "data": {
      "text/plain": [
       "'MAPPA'"
      ]
     },
     "execution_count": 56,
     "metadata": {},
     "output_type": "execute_result"
    }
   ],
   "source": [
    "soup.find_all('div', class_=\"spaceit_pad\")[9].a.text"
   ]
  },
  {
   "cell_type": "markdown",
   "id": "2751e569-9308-46cb-be56-fffac52fd8a6",
   "metadata": {},
   "source": [
    "Some anime display more information or less information"
   ]
  },
  {
   "cell_type": "code",
   "execution_count": 87,
   "id": "1f0ebbc6-605f-4620-8355-4bda6b38c995",
   "metadata": {
    "tags": []
   },
   "outputs": [
    {
     "data": {
      "text/plain": [
       "'Studios:'"
      ]
     },
     "execution_count": 87,
     "metadata": {},
     "output_type": "execute_result"
    }
   ],
   "source": [
    "div_elements=soup.find_all('div', class_=\"spaceit_pad\")\n",
    "div_elements[9].span.text"
   ]
  },
  {
   "cell_type": "code",
   "execution_count": 57,
   "id": "4ec9f517-cf93-4f1c-8f2b-ec22d09ba12d",
   "metadata": {
    "tags": []
   },
   "outputs": [
    {
     "data": {
      "text/plain": [
       "[<span class=\"dark_text\">Synonyms:</span>,\n",
       " <span class=\"dark_text\">Japanese:</span>,\n",
       " <span class=\"dark_text\">English:</span>,\n",
       " <span class=\"dark_text\">Type:</span>,\n",
       " <span class=\"dark_text\">Episodes:</span>,\n",
       " <span class=\"dark_text\">Status:</span>,\n",
       " <span class=\"dark_text\">Aired:</span>,\n",
       " <span class=\"dark_text\">Producers:</span>,\n",
       " <span class=\"dark_text\">Licensors:</span>,\n",
       " <span class=\"dark_text\">Studios:</span>,\n",
       " <span class=\"dark_text\">Source:</span>,\n",
       " <span class=\"dark_text\">Genres:</span>,\n",
       " <span class=\"dark_text\">Themes:</span>,\n",
       " <span class=\"dark_text\">Demographic:</span>,\n",
       " <span class=\"dark_text\">Duration:</span>,\n",
       " <span class=\"dark_text\">Rating:</span>,\n",
       " <span class=\"dark_text\">Score:</span>,\n",
       " <span class=\"dark_text\">Ranked:</span>,\n",
       " <span class=\"dark_text\">Popularity:</span>,\n",
       " <span class=\"dark_text\">Members:</span>,\n",
       " <span class=\"dark_text\">Favorites:</span>]"
      ]
     },
     "execution_count": 57,
     "metadata": {},
     "output_type": "execute_result"
    }
   ],
   "source": [
    "dark_elements_list=soup.find_all('span', class_=\"dark_text\")\n",
    "dark_elements_list"
   ]
  },
  {
   "cell_type": "code",
   "execution_count": 67,
   "id": "4c9f3551-602c-4c46-bc5f-ea7cf9fc922e",
   "metadata": {
    "tags": []
   },
   "outputs": [
    {
     "data": {
      "text/plain": [
       "'Studios:'"
      ]
     },
     "execution_count": 67,
     "metadata": {},
     "output_type": "execute_result"
    }
   ],
   "source": [
    "dark_elements_list[9].text"
   ]
  },
  {
   "cell_type": "code",
   "execution_count": 97,
   "id": "2ed3ae11-d2ec-41c5-a062-6776f26096d6",
   "metadata": {
    "tags": []
   },
   "outputs": [
    {
     "name": "stdout",
     "output_type": "stream",
     "text": [
      "MAPPA\n",
      "this elements has no span attribute\n",
      "this elements has no span attribute\n",
      "this elements has no span attribute\n",
      "this elements has no span attribute\n",
      "this elements has no span attribute\n",
      "this elements has no span attribute\n",
      "this elements has no span attribute\n",
      "this elements has no span attribute\n",
      "this elements has no span attribute\n",
      "this elements has no span attribute\n",
      "this elements has no span attribute\n",
      "this elements has no span attribute\n",
      "this elements has no span attribute\n",
      "this elements has no span attribute\n"
     ]
    }
   ],
   "source": [
    "for element in div_elements:\n",
    "    try :\n",
    "        if element.span.text==\"Studios:\":\n",
    "            print(element.a.text)\n",
    "    except:\n",
    "        print(\"this elements has no span attribute\")"
   ]
  },
  {
   "cell_type": "markdown",
   "id": "01b2d00a-f179-4cc4-a573-396becb27e9c",
   "metadata": {
    "tags": []
   },
   "source": [
    "for url in top_anime['url']:\n",
    "    soup = fetch_html(url)  # Fetch and parse the HTML content from the URL\n",
    "    print(soup)"
   ]
  },
  {
   "cell_type": "code",
   "execution_count": 52,
   "id": "e3433013-a773-4b47-bf98-96397e7cdb43",
   "metadata": {
    "tags": []
   },
   "outputs": [
    {
     "data": {
      "text/plain": [
       "[]"
      ]
     },
     "execution_count": 52,
     "metadata": {},
     "output_type": "execute_result"
    }
   ],
   "source": [
    "soup.select('studios')"
   ]
  },
  {
   "cell_type": "code",
   "execution_count": null,
   "id": "e18d62dd-a4d2-4ffb-82f6-89610b61ce0a",
   "metadata": {},
   "outputs": [],
   "source": []
  }
 ],
 "metadata": {
  "kernelspec": {
   "display_name": "Python 3 (ipykernel)",
   "language": "python",
   "name": "python3"
  },
  "language_info": {
   "codemirror_mode": {
    "name": "ipython",
    "version": 3
   },
   "file_extension": ".py",
   "mimetype": "text/x-python",
   "name": "python",
   "nbconvert_exporter": "python",
   "pygments_lexer": "ipython3",
   "version": "3.10.9"
  }
 },
 "nbformat": 4,
 "nbformat_minor": 5
}
