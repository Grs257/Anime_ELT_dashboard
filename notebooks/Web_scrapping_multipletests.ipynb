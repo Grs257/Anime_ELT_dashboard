{
 "cells": [
  {
   "cell_type": "markdown",
   "id": "f0268469-fb31-4c18-b7a1-d99ceae58ff3",
   "metadata": {},
   "source": [
    "# Web scrapping multiple tests"
   ]
  },
  {
   "cell_type": "code",
   "execution_count": 1,
   "id": "8450543d-299d-4a31-9671-86ec60365895",
   "metadata": {
    "tags": []
   },
   "outputs": [],
   "source": [
    "# Import required libraries\n",
    "import requests\n",
    "from bs4 import BeautifulSoup\n",
    "import pandas as pd"
   ]
  },
  {
   "cell_type": "code",
   "execution_count": 2,
   "id": "86c10785-f55e-479f-94b2-3c6ef496f593",
   "metadata": {
    "tags": []
   },
   "outputs": [],
   "source": [
    "#Function to send an HTTP request and parse the HTML content of the page\n",
    "def fetch_html(url):\n",
    "    response = requests.get(url)  # Send an HTTP GET request to the URL\n",
    "    if response.status_code == 200:  # Check if the request was successful (status code 200)\n",
    "        # Parse the response content with BeautifulSoup and return the parsed HTML\n",
    "        return BeautifulSoup(response.content, 'lxml')\n",
    "    else:\n",
    "        return None"
   ]
  },
  {
   "cell_type": "code",
   "execution_count": 3,
   "id": "59dc2eb1-3dab-487f-be51-83a98fa36cd3",
   "metadata": {
    "tags": []
   },
   "outputs": [],
   "source": [
    "url = \"https://myanimelist.net/topanime.php\"  # Define the target URL\n",
    "soup = fetch_html(url)  # Fetch and parse the HTML content from the URL"
   ]
  },
  {
   "cell_type": "markdown",
   "id": "ff2d3c75-192a-4a1d-9ddc-238c3bed9e96",
   "metadata": {},
   "source": [
    "# Scrapping Shingeki no Kyojin"
   ]
  },
  {
   "cell_type": "markdown",
   "id": "2616857d-6290-4cb4-9636-f2ce54ca3cf1",
   "metadata": {
    "tags": []
   },
   "source": [
    "## Anime Ranking "
   ]
  },
  {
   "cell_type": "code",
   "execution_count": 4,
   "id": "d92a0aaa-79b7-4807-8761-6b62ffd3a336",
   "metadata": {
    "tags": []
   },
   "outputs": [
    {
     "data": {
      "text/plain": [
       "'1'"
      ]
     },
     "execution_count": 4,
     "metadata": {},
     "output_type": "execute_result"
    }
   ],
   "source": [
    "soup.find('span',class_=\"lightLink top-anime-rank-text rank1\").text"
   ]
  },
  {
   "cell_type": "markdown",
   "id": "b5401ccb-692f-4d19-8918-36a333f79639",
   "metadata": {},
   "source": [
    "## Anime Score"
   ]
  },
  {
   "cell_type": "code",
   "execution_count": 5,
   "id": "8a130521-87a6-433d-998f-033021d976f2",
   "metadata": {
    "tags": []
   },
   "outputs": [
    {
     "data": {
      "text/plain": [
       "'9.13'"
      ]
     },
     "execution_count": 5,
     "metadata": {},
     "output_type": "execute_result"
    }
   ],
   "source": [
    "soup.find('span',class_=\"text on score-label score-9\").text"
   ]
  },
  {
   "cell_type": "markdown",
   "id": "24f8b1f6-1513-4f88-b424-a15f648ceacb",
   "metadata": {},
   "source": [
    "### Anime name"
   ]
  },
  {
   "cell_type": "code",
   "execution_count": 6,
   "id": "ccc53f46-b340-4b9a-b91d-06db0df59d4a",
   "metadata": {
    "tags": []
   },
   "outputs": [
    {
     "data": {
      "text/plain": [
       "'Shingeki no Kyojin: The Final Season - Kanketsu-hen'"
      ]
     },
     "execution_count": 6,
     "metadata": {},
     "output_type": "execute_result"
    }
   ],
   "source": [
    "soup.find('div',class_=\"di-ib clearfix\").a.text"
   ]
  },
  {
   "cell_type": "markdown",
   "id": "df55152a-7333-46c2-b150-3fe23e95bdb7",
   "metadata": {},
   "source": [
    "### Anime URL"
   ]
  },
  {
   "cell_type": "code",
   "execution_count": 7,
   "id": "c8b7f260-ef87-4640-873f-1c664ef36340",
   "metadata": {
    "tags": []
   },
   "outputs": [
    {
     "data": {
      "text/plain": [
       "'https://myanimelist.net/anime/51535/Shingeki_no_Kyojin__The_Final_Season_-_Kanketsu-hen'"
      ]
     },
     "execution_count": 7,
     "metadata": {},
     "output_type": "execute_result"
    }
   ],
   "source": [
    "soup.find('div', class_=\"di-ib clearfix\").a['href']"
   ]
  },
  {
   "cell_type": "markdown",
   "id": "ebc1fffb-0d81-4e11-b7f1-10cfa9df0c99",
   "metadata": {},
   "source": [
    "### Number of episodes"
   ]
  },
  {
   "cell_type": "code",
   "execution_count": 8,
   "id": "31cf13d2-a7e0-44ea-9f90-fbe959c8704f",
   "metadata": {
    "tags": []
   },
   "outputs": [
    {
     "data": {
      "text/plain": [
       "'Special (2 eps)'"
      ]
     },
     "execution_count": 8,
     "metadata": {},
     "output_type": "execute_result"
    }
   ],
   "source": [
    "soup.find('div',class_=\"information di-ib mt4\").text.split('\\n')[1].strip()"
   ]
  },
  {
   "cell_type": "markdown",
   "id": "b49b9263-fbb1-41c1-b77f-0847c0f67de6",
   "metadata": {},
   "source": [
    "### Emission date"
   ]
  },
  {
   "cell_type": "code",
   "execution_count": 9,
   "id": "756377ce-6b1c-4f8c-8da4-6e51b9115222",
   "metadata": {
    "tags": []
   },
   "outputs": [
    {
     "data": {
      "text/plain": [
       "'Mar 2023 - 2023'"
      ]
     },
     "execution_count": 9,
     "metadata": {},
     "output_type": "execute_result"
    }
   ],
   "source": [
    "soup.find('div',class_=\"information di-ib mt4\").text.split('\\n')[2].strip()"
   ]
  },
  {
   "cell_type": "markdown",
   "id": "9646d36f-6006-4a2d-a8ed-db8ffcdcacdb",
   "metadata": {},
   "source": [
    "### Number of members"
   ]
  },
  {
   "cell_type": "code",
   "execution_count": 10,
   "id": "f7046e33-cff0-421b-aca4-264c49ba99a7",
   "metadata": {
    "tags": []
   },
   "outputs": [
    {
     "data": {
      "text/plain": [
       "'369,552 members'"
      ]
     },
     "execution_count": 10,
     "metadata": {},
     "output_type": "execute_result"
    }
   ],
   "source": [
    "soup.find('div',class_=\"information di-ib mt4\").text.split('\\n')[3].strip()"
   ]
  },
  {
   "cell_type": "markdown",
   "id": "07d2f4a5-5708-4495-9144-ef03b3c632e1",
   "metadata": {},
   "source": [
    "# For every anime"
   ]
  },
  {
   "cell_type": "markdown",
   "id": "ce9ccd64-e7ad-4602-93be-e2de308b8346",
   "metadata": {},
   "source": [
    "Each anime is stored in the \"tr class=\"ranking-list\"\" object which contains all the above information for each anime"
   ]
  },
  {
   "cell_type": "code",
   "execution_count": 11,
   "id": "33371454-472d-4ee7-902f-6c0a8bc9a71f",
   "metadata": {
    "tags": []
   },
   "outputs": [
    {
     "data": {
      "text/plain": [
       "<tr class=\"ranking-list\">\n",
       "<td class=\"rank ac\" valign=\"top\">\n",
       "<span class=\"lightLink top-anime-rank-text rank1\">1</span>\n",
       "</td>\n",
       "<td class=\"title al va-t word-break\">\n",
       "<a class=\"hoverinfo_trigger fl-l ml12 mr8\" href=\"https://myanimelist.net/anime/51535/Shingeki_no_Kyojin__The_Final_Season_-_Kanketsu-hen\" id=\"#area51535\" rel=\"#info51535\">\n",
       "<img alt=\"Anime: Shingeki no Kyojin: The Final Season - Kanketsu-hen\" border=\"0\" class=\"lazyload\" data-src=\"https://cdn.myanimelist.net/r/50x70/images/anime/1977/134922.jpg?s=b3e305320d13cee64ee64de190a7264d\" data-srcset=\"https://cdn.myanimelist.net/r/50x70/images/anime/1977/134922.jpg?s=b3e305320d13cee64ee64de190a7264d 1x, https://cdn.myanimelist.net/r/100x140/images/anime/1977/134922.jpg?s=fbc7c2075557045d8afb2de577e59d62 2x\" height=\"70\" width=\"50\"/>\n",
       "</a>\n",
       "<div class=\"detail\"><div id=\"area51535\">\n",
       "<div class=\"hoverinfo\" id=\"info51535\" rel=\"a51535\"></div>\n",
       "</div>\n",
       "<div class=\"di-ib clearfix\"><h3 class=\"hoverinfo_trigger fl-l fs14 fw-b anime_ranking_h3\"><a href=\"https://myanimelist.net/anime/51535/Shingeki_no_Kyojin__The_Final_Season_-_Kanketsu-hen\" id=\"#area51535\" rel=\"#info51535\">Shingeki no Kyojin: The Final Season - Kanketsu-hen</a></h3><div class=\"icon-watch-pv2\"><a class=\"mal-icon ml8 ga-click\" href=\"https://myanimelist.net/anime/51535/Shingeki_no_Kyojin__The_Final_Season_-_Kanketsu-hen/video\" title=\"Watch Promotional Video\"><i class=\"malicon malicon-movie-pv\"></i></a></div></div><br/><div class=\"information di-ib mt4\">\n",
       "        Special (2 eps)<br/>\n",
       "        Mar 2023 - 2023<br/>\n",
       "        369,552 members\n",
       "      </div></div>\n",
       "</td>\n",
       "<td class=\"score ac fs14\"><div class=\"js-top-ranking-score-col di-ib al\"><i class=\"icon-score-star fa-solid fa-star mr4 on\"></i><span class=\"text on score-label score-9\">9.13</span></div>\n",
       "</td>\n",
       "<td class=\"your-score ac fs14\">\n",
       "<div class=\"js-top-ranking-your-score-col di-ib al\"> <a class=\"\" href=\"https://myanimelist.net/login.php?error=login_required&amp;from=%2Ftopanime.php\"><i class=\"icon-score-star fa-solid fa-star mr4\"></i><span class=\"text score-label score-na\">N/A</span></a>\n",
       "</div>\n",
       "</td>\n",
       "<td class=\"status ac\"> <a class=\"btn-addEdit-large btn-anime-watch-status js-anime-watch-status notinmylist\" href=\"https://myanimelist.net/login.php?error=login_required&amp;from=%2Ftopanime.php\"><i class=\"fa-solid fa-square-plus-o mr4\"></i>Add to list</a>\n",
       "</td>\n",
       "</tr>"
      ]
     },
     "execution_count": 11,
     "metadata": {},
     "output_type": "execute_result"
    }
   ],
   "source": [
    "soup.find('tr',class_=\"ranking-list\")"
   ]
  },
  {
   "cell_type": "code",
   "execution_count": 12,
   "id": "2fccb415-fddb-4071-915c-dc09f3f3b169",
   "metadata": {
    "tags": []
   },
   "outputs": [
    {
     "data": {
      "text/plain": [
       "'1'"
      ]
     },
     "execution_count": 12,
     "metadata": {},
     "output_type": "execute_result"
    }
   ],
   "source": [
    "soup.find('tr',class_=\"ranking-list\").span.text"
   ]
  },
  {
   "cell_type": "code",
   "execution_count": 13,
   "id": "0fedc1f8-1456-4be8-8d5d-7509dd82108d",
   "metadata": {
    "tags": []
   },
   "outputs": [],
   "source": [
    "# Find the first 'tr' element with class 'ranking-list'\n",
    "tr_element = soup.find('tr', class_=\"ranking-list\")\n",
    "\n",
    "# Find all 'span' elements within the 'tr' element\n",
    "span_elements = tr_element.find_all('span')"
   ]
  },
  {
   "cell_type": "code",
   "execution_count": 14,
   "id": "b793946d-8b80-4587-b88c-ed9a26287002",
   "metadata": {
    "tags": []
   },
   "outputs": [
    {
     "data": {
      "text/plain": [
       "[<span class=\"lightLink top-anime-rank-text rank1\">1</span>,\n",
       " <span class=\"text on score-label score-9\">9.13</span>,\n",
       " <span class=\"text score-label score-na\">N/A</span>]"
      ]
     },
     "execution_count": 14,
     "metadata": {},
     "output_type": "execute_result"
    }
   ],
   "source": [
    "span_elements"
   ]
  },
  {
   "cell_type": "code",
   "execution_count": 15,
   "id": "b62c762b-e021-4701-93a3-d8d308a4a533",
   "metadata": {
    "tags": []
   },
   "outputs": [
    {
     "data": {
      "text/plain": [
       "'1'"
      ]
     },
     "execution_count": 15,
     "metadata": {},
     "output_type": "execute_result"
    }
   ],
   "source": [
    "span_elements[0].text"
   ]
  },
  {
   "cell_type": "code",
   "execution_count": 16,
   "id": "a5eee26e-2bc7-46ff-bd3f-51d2ce31bcbc",
   "metadata": {
    "tags": []
   },
   "outputs": [
    {
     "data": {
      "text/plain": [
       "'9.13'"
      ]
     },
     "execution_count": 16,
     "metadata": {},
     "output_type": "execute_result"
    }
   ],
   "source": [
    "span_elements[1].text"
   ]
  },
  {
   "cell_type": "code",
   "execution_count": 36,
   "id": "3e338fda-81ea-4c70-982b-c8cb8564bdfa",
   "metadata": {
    "tags": []
   },
   "outputs": [],
   "source": [
    "div_elements = tr_element.find('div', class_=\"detail\")"
   ]
  },
  {
   "cell_type": "code",
   "execution_count": 39,
   "id": "e069cb4d-d166-43b5-bffa-397f8bf7374f",
   "metadata": {
    "tags": []
   },
   "outputs": [
    {
     "data": {
      "text/plain": [
       "<div class=\"detail\"><div id=\"area51535\">\n",
       "<div class=\"hoverinfo\" id=\"info51535\" rel=\"a51535\"></div>\n",
       "</div>\n",
       "<div class=\"di-ib clearfix\"><h3 class=\"hoverinfo_trigger fl-l fs14 fw-b anime_ranking_h3\"><a href=\"https://myanimelist.net/anime/51535/Shingeki_no_Kyojin__The_Final_Season_-_Kanketsu-hen\" id=\"#area51535\" rel=\"#info51535\">Shingeki no Kyojin: The Final Season - Kanketsu-hen</a></h3><div class=\"icon-watch-pv2\"><a class=\"mal-icon ml8 ga-click\" href=\"https://myanimelist.net/anime/51535/Shingeki_no_Kyojin__The_Final_Season_-_Kanketsu-hen/video\" title=\"Watch Promotional Video\"><i class=\"malicon malicon-movie-pv\"></i></a></div></div><br/><div class=\"information di-ib mt4\">\n",
       "        Special (2 eps)<br/>\n",
       "        Mar 2023 - 2023<br/>\n",
       "        369,552 members\n",
       "      </div></div>"
      ]
     },
     "execution_count": 39,
     "metadata": {},
     "output_type": "execute_result"
    }
   ],
   "source": [
    "div_elements"
   ]
  },
  {
   "cell_type": "code",
   "execution_count": 18,
   "id": "e9e636e0-ae36-416b-a36e-ea7e86feb458",
   "metadata": {
    "tags": []
   },
   "outputs": [
    {
     "data": {
      "text/plain": [
       "'Shingeki no Kyojin: The Final Season - Kanketsu-hen'"
      ]
     },
     "execution_count": 18,
     "metadata": {},
     "output_type": "execute_result"
    }
   ],
   "source": [
    "div_elements[0].a.text"
   ]
  },
  {
   "cell_type": "code",
   "execution_count": 19,
   "id": "ceff3d4a-57eb-428e-ae62-930a5f793d9a",
   "metadata": {
    "tags": []
   },
   "outputs": [
    {
     "data": {
      "text/plain": [
       "<div class=\"information di-ib mt4\">\n",
       "        Special (2 eps)<br/>\n",
       "        Mar 2023 - 2023<br/>\n",
       "        369,552 members\n",
       "      </div>"
      ]
     },
     "execution_count": 19,
     "metadata": {},
     "output_type": "execute_result"
    }
   ],
   "source": [
    "div_elements[5]"
   ]
  },
  {
   "cell_type": "code",
   "execution_count": 22,
   "id": "e43c5c4a-136c-4183-8e17-a99e5fe9076b",
   "metadata": {
    "tags": []
   },
   "outputs": [
    {
     "data": {
      "text/plain": [
       "'Special (2 eps)'"
      ]
     },
     "execution_count": 22,
     "metadata": {},
     "output_type": "execute_result"
    }
   ],
   "source": [
    "div_elements[5].text.split('\\n')[1].strip()"
   ]
  },
  {
   "cell_type": "code",
   "execution_count": 45,
   "id": "68b45c2c-c5d4-4380-bb1e-542c7872760b",
   "metadata": {
    "tags": []
   },
   "outputs": [
    {
     "data": {
      "text/plain": [
       "'1'"
      ]
     },
     "execution_count": 45,
     "metadata": {},
     "output_type": "execute_result"
    }
   ],
   "source": [
    "soup.find('span', class_=\"lightLink top-anime-rank-text rank1\").text"
   ]
  },
  {
   "cell_type": "markdown",
   "id": "f545ca71-b621-46e8-b227-7624e16b60cb",
   "metadata": {},
   "source": [
    "# First 50 animes"
   ]
  },
  {
   "cell_type": "code",
   "execution_count": 55,
   "id": "1d7f2d2f-1e03-405e-b600-2c45fe520bdb",
   "metadata": {
    "tags": []
   },
   "outputs": [],
   "source": [
    "# Create empty lists to store the extracted information\n",
    "rankings = []\n",
    "scores = []\n",
    "titles = []\n",
    "number_episodes_list = []\n",
    "emission_dates = []\n",
    "members_list = []\n",
    "urls= []\n",
    "\n",
    "\n",
    "# Loop through each anime element and extract the information\n",
    "for anime_element in soup.find_all('tr', class_='ranking-list'):\n",
    "    # getting the span elements inside the element of ranking-list\n",
    "    span_elements = anime_element.find_all('span')\n",
    "    ranking = span_elements[0].text\n",
    "    score = span_elements[1].text\n",
    "    title = anime_element.find('div',class_=\"di-ib clearfix\").a.text\n",
    "    number_episodes = anime_element.find('div',class_=\"information di-ib mt4\").text.split('\\n')[1].strip()\n",
    "    emission_date = anime_element.find('div',class_=\"information di-ib mt4\").text.split('\\n')[2].strip()\n",
    "    members = anime_element.find('div', class_=\"information di-ib mt4\").text.split('\\n')[3].strip()\n",
    "    url= anime_element.find('div', class_=\"di-ib clearfix\").a['href']\n",
    "\n",
    "    # Append the extracted information to the lists\n",
    "    rankings.append(ranking)\n",
    "    scores.append(score)\n",
    "    titles.append(title)\n",
    "    number_episodes_list.append(number_episodes)\n",
    "    emission_dates.append(emission_date)\n",
    "    members_list.append(members)\n",
    "    urls.append(url)\n",
    "    \n",
    "\n",
    "# Create a dictionary with keys as column names and values as the lists of extracted data\n",
    "data = {\n",
    "    'Ranking': rankings,\n",
    "    'Score': scores,\n",
    "    'Title': titles,\n",
    "    'Number of Episodes': number_episodes_list,\n",
    "    'Emission Date': emission_dates,\n",
    "    'Members': members_list,\n",
    "    'Url': urls\n",
    "}\n",
    "\n",
    "# Convert the dictionary to a pandas DataFrame\n",
    "df = pd.DataFrame(data)"
   ]
  },
  {
   "cell_type": "code",
   "execution_count": 56,
   "id": "0bc41920-cf21-4e5a-8882-9d2029ef1711",
   "metadata": {
    "tags": []
   },
   "outputs": [],
   "source": [
    "# Use regular expression to extract the text and the number from the 'Number of Episodes' column\n",
    "df['columnA'] = df['Number of Episodes'].str.extract(r'(\\D+)')\n",
    "df['columnB'] = df['Number of Episodes'].str.extract(r'(\\d+)')\n",
    "\n",
    "# Convert the 'columnB' to numeric type\n",
    "df['columnB'] = pd.to_numeric(df['columnB'])"
   ]
  },
  {
   "cell_type": "code",
   "execution_count": 57,
   "id": "d0e0d278-7989-4993-b996-71150f403f47",
   "metadata": {
    "tags": []
   },
   "outputs": [
    {
     "data": {
      "text/html": [
       "<div>\n",
       "<style scoped>\n",
       "    .dataframe tbody tr th:only-of-type {\n",
       "        vertical-align: middle;\n",
       "    }\n",
       "\n",
       "    .dataframe tbody tr th {\n",
       "        vertical-align: top;\n",
       "    }\n",
       "\n",
       "    .dataframe thead th {\n",
       "        text-align: right;\n",
       "    }\n",
       "</style>\n",
       "<table border=\"1\" class=\"dataframe\">\n",
       "  <thead>\n",
       "    <tr style=\"text-align: right;\">\n",
       "      <th></th>\n",
       "      <th>Ranking</th>\n",
       "      <th>Score</th>\n",
       "      <th>Title</th>\n",
       "      <th>Number of Episodes</th>\n",
       "      <th>Emission Date</th>\n",
       "      <th>Members</th>\n",
       "      <th>Url</th>\n",
       "      <th>columnA</th>\n",
       "      <th>columnB</th>\n",
       "    </tr>\n",
       "  </thead>\n",
       "  <tbody>\n",
       "    <tr>\n",
       "      <th>0</th>\n",
       "      <td>1</td>\n",
       "      <td>9.13</td>\n",
       "      <td>Shingeki no Kyojin: The Final Season - Kankets...</td>\n",
       "      <td>Special (2 eps)</td>\n",
       "      <td>Mar 2023 - 2023</td>\n",
       "      <td>369,552 members</td>\n",
       "      <td>https://myanimelist.net/anime/51535/Shingeki_n...</td>\n",
       "      <td>Special (</td>\n",
       "      <td>2</td>\n",
       "    </tr>\n",
       "    <tr>\n",
       "      <th>1</th>\n",
       "      <td>2</td>\n",
       "      <td>9.11</td>\n",
       "      <td>Fullmetal Alchemist: Brotherhood</td>\n",
       "      <td>TV (64 eps)</td>\n",
       "      <td>Apr 2009 - Jul 2010</td>\n",
       "      <td>3,119,535 members</td>\n",
       "      <td>https://myanimelist.net/anime/5114/Fullmetal_A...</td>\n",
       "      <td>TV (</td>\n",
       "      <td>64</td>\n",
       "    </tr>\n",
       "    <tr>\n",
       "      <th>2</th>\n",
       "      <td>3</td>\n",
       "      <td>9.08</td>\n",
       "      <td>Bleach: Sennen Kessen-hen</td>\n",
       "      <td>TV (13 eps)</td>\n",
       "      <td>Oct 2022 - Dec 2022</td>\n",
       "      <td>410,626 members</td>\n",
       "      <td>https://myanimelist.net/anime/41467/Bleach__Se...</td>\n",
       "      <td>TV (</td>\n",
       "      <td>13</td>\n",
       "    </tr>\n",
       "    <tr>\n",
       "      <th>3</th>\n",
       "      <td>4</td>\n",
       "      <td>9.08</td>\n",
       "      <td>Steins;Gate</td>\n",
       "      <td>TV (24 eps)</td>\n",
       "      <td>Apr 2011 - Sep 2011</td>\n",
       "      <td>2,400,946 members</td>\n",
       "      <td>https://myanimelist.net/anime/9253/Steins_Gate</td>\n",
       "      <td>TV (</td>\n",
       "      <td>24</td>\n",
       "    </tr>\n",
       "    <tr>\n",
       "      <th>4</th>\n",
       "      <td>5</td>\n",
       "      <td>9.07</td>\n",
       "      <td>Gintama°</td>\n",
       "      <td>TV (51 eps)</td>\n",
       "      <td>Apr 2015 - Mar 2016</td>\n",
       "      <td>583,925 members</td>\n",
       "      <td>https://myanimelist.net/anime/28977/Gintama°</td>\n",
       "      <td>TV (</td>\n",
       "      <td>51</td>\n",
       "    </tr>\n",
       "    <tr>\n",
       "      <th>5</th>\n",
       "      <td>6</td>\n",
       "      <td>9.06</td>\n",
       "      <td>Kaguya-sama wa Kokurasetai: Ultra Romantic</td>\n",
       "      <td>TV (13 eps)</td>\n",
       "      <td>Apr 2022 - Jun 2022</td>\n",
       "      <td>779,658 members</td>\n",
       "      <td>https://myanimelist.net/anime/43608/Kaguya-sam...</td>\n",
       "      <td>TV (</td>\n",
       "      <td>13</td>\n",
       "    </tr>\n",
       "    <tr>\n",
       "      <th>6</th>\n",
       "      <td>7</td>\n",
       "      <td>9.06</td>\n",
       "      <td>Shingeki no Kyojin Season 3 Part 2</td>\n",
       "      <td>TV (10 eps)</td>\n",
       "      <td>Apr 2019 - Jul 2019</td>\n",
       "      <td>2,055,344 members</td>\n",
       "      <td>https://myanimelist.net/anime/38524/Shingeki_n...</td>\n",
       "      <td>TV (</td>\n",
       "      <td>10</td>\n",
       "    </tr>\n",
       "    <tr>\n",
       "      <th>7</th>\n",
       "      <td>8</td>\n",
       "      <td>9.05</td>\n",
       "      <td>Gintama: The Final</td>\n",
       "      <td>Movie (1 eps)</td>\n",
       "      <td>Jan 2021 - Jan 2021</td>\n",
       "      <td>127,561 members</td>\n",
       "      <td>https://myanimelist.net/anime/39486/Gintama__T...</td>\n",
       "      <td>Movie (</td>\n",
       "      <td>1</td>\n",
       "    </tr>\n",
       "    <tr>\n",
       "      <th>8</th>\n",
       "      <td>9</td>\n",
       "      <td>9.04</td>\n",
       "      <td>Gintama'</td>\n",
       "      <td>TV (51 eps)</td>\n",
       "      <td>Apr 2011 - Mar 2012</td>\n",
       "      <td>515,388 members</td>\n",
       "      <td>https://myanimelist.net/anime/9969/Gintama</td>\n",
       "      <td>TV (</td>\n",
       "      <td>51</td>\n",
       "    </tr>\n",
       "    <tr>\n",
       "      <th>9</th>\n",
       "      <td>10</td>\n",
       "      <td>9.04</td>\n",
       "      <td>Hunter x Hunter (2011)</td>\n",
       "      <td>TV (148 eps)</td>\n",
       "      <td>Oct 2011 - Sep 2014</td>\n",
       "      <td>2,607,039 members</td>\n",
       "      <td>https://myanimelist.net/anime/11061/Hunter_x_H...</td>\n",
       "      <td>TV (</td>\n",
       "      <td>148</td>\n",
       "    </tr>\n",
       "    <tr>\n",
       "      <th>10</th>\n",
       "      <td>11</td>\n",
       "      <td>9.03</td>\n",
       "      <td>Ginga Eiyuu Densetsu</td>\n",
       "      <td>OVA (110 eps)</td>\n",
       "      <td>Jan 1988 - Mar 1997</td>\n",
       "      <td>300,669 members</td>\n",
       "      <td>https://myanimelist.net/anime/820/Ginga_Eiyuu_...</td>\n",
       "      <td>OVA (</td>\n",
       "      <td>110</td>\n",
       "    </tr>\n",
       "    <tr>\n",
       "      <th>11</th>\n",
       "      <td>12</td>\n",
       "      <td>9.03</td>\n",
       "      <td>Gintama': Enchousen</td>\n",
       "      <td>TV (13 eps)</td>\n",
       "      <td>Oct 2012 - Mar 2013</td>\n",
       "      <td>304,118 members</td>\n",
       "      <td>https://myanimelist.net/anime/15417/Gintama__E...</td>\n",
       "      <td>TV (</td>\n",
       "      <td>13</td>\n",
       "    </tr>\n",
       "    <tr>\n",
       "      <th>12</th>\n",
       "      <td>13</td>\n",
       "      <td>9.01</td>\n",
       "      <td>Fruits Basket: The Final</td>\n",
       "      <td>TV (13 eps)</td>\n",
       "      <td>Apr 2021 - Jun 2021</td>\n",
       "      <td>415,958 members</td>\n",
       "      <td>https://myanimelist.net/anime/42938/Fruits_Bas...</td>\n",
       "      <td>TV (</td>\n",
       "      <td>13</td>\n",
       "    </tr>\n",
       "    <tr>\n",
       "      <th>13</th>\n",
       "      <td>14</td>\n",
       "      <td>8.99</td>\n",
       "      <td>Gintama.</td>\n",
       "      <td>TV (12 eps)</td>\n",
       "      <td>Jan 2017 - Mar 2017</td>\n",
       "      <td>292,400 members</td>\n",
       "      <td>https://myanimelist.net/anime/34096/Gintama</td>\n",
       "      <td>TV (</td>\n",
       "      <td>12</td>\n",
       "    </tr>\n",
       "    <tr>\n",
       "      <th>14</th>\n",
       "      <td>15</td>\n",
       "      <td>8.94</td>\n",
       "      <td>3-gatsu no Lion 2nd Season</td>\n",
       "      <td>TV (22 eps)</td>\n",
       "      <td>Oct 2017 - Mar 2018</td>\n",
       "      <td>377,726 members</td>\n",
       "      <td>https://myanimelist.net/anime/35180/3-gatsu_no...</td>\n",
       "      <td>TV (</td>\n",
       "      <td>22</td>\n",
       "    </tr>\n",
       "    <tr>\n",
       "      <th>15</th>\n",
       "      <td>16</td>\n",
       "      <td>8.94</td>\n",
       "      <td>Gintama</td>\n",
       "      <td>TV (201 eps)</td>\n",
       "      <td>Apr 2006 - Mar 2010</td>\n",
       "      <td>1,009,686 members</td>\n",
       "      <td>https://myanimelist.net/anime/918/Gintama</td>\n",
       "      <td>TV (</td>\n",
       "      <td>201</td>\n",
       "    </tr>\n",
       "    <tr>\n",
       "      <th>16</th>\n",
       "      <td>17</td>\n",
       "      <td>8.94</td>\n",
       "      <td>Koe no Katachi</td>\n",
       "      <td>Movie (1 eps)</td>\n",
       "      <td>Sep 2016 - Sep 2016</td>\n",
       "      <td>2,151,178 members</td>\n",
       "      <td>https://myanimelist.net/anime/28851/Koe_no_Kat...</td>\n",
       "      <td>Movie (</td>\n",
       "      <td>1</td>\n",
       "    </tr>\n",
       "    <tr>\n",
       "      <th>17</th>\n",
       "      <td>18</td>\n",
       "      <td>8.93</td>\n",
       "      <td>Clannad: After Story</td>\n",
       "      <td>TV (24 eps)</td>\n",
       "      <td>Oct 2008 - Mar 2009</td>\n",
       "      <td>1,136,709 members</td>\n",
       "      <td>https://myanimelist.net/anime/4181/Clannad__Af...</td>\n",
       "      <td>TV (</td>\n",
       "      <td>24</td>\n",
       "    </tr>\n",
       "    <tr>\n",
       "      <th>18</th>\n",
       "      <td>19</td>\n",
       "      <td>8.92</td>\n",
       "      <td>Gintama Movie 2: Kanketsu-hen - Yorozuya yo Ei...</td>\n",
       "      <td>Movie (1 eps)</td>\n",
       "      <td>Jul 2013 - Jul 2013</td>\n",
       "      <td>225,753 members</td>\n",
       "      <td>https://myanimelist.net/anime/15335/Gintama_Mo...</td>\n",
       "      <td>Movie (</td>\n",
       "      <td>1</td>\n",
       "    </tr>\n",
       "    <tr>\n",
       "      <th>19</th>\n",
       "      <td>20</td>\n",
       "      <td>8.91</td>\n",
       "      <td>Code Geass: Hangyaku no Lelouch R2</td>\n",
       "      <td>TV (25 eps)</td>\n",
       "      <td>Apr 2008 - Sep 2008</td>\n",
       "      <td>1,675,389 members</td>\n",
       "      <td>https://myanimelist.net/anime/2904/Code_Geass_...</td>\n",
       "      <td>TV (</td>\n",
       "      <td>25</td>\n",
       "    </tr>\n",
       "    <tr>\n",
       "      <th>20</th>\n",
       "      <td>21</td>\n",
       "      <td>8.91</td>\n",
       "      <td>Violet Evergarden Movie</td>\n",
       "      <td>Movie (1 eps)</td>\n",
       "      <td>Sep 2020 - Sep 2020</td>\n",
       "      <td>528,185 members</td>\n",
       "      <td>https://myanimelist.net/anime/37987/Violet_Eve...</td>\n",
       "      <td>Movie (</td>\n",
       "      <td>1</td>\n",
       "    </tr>\n",
       "    <tr>\n",
       "      <th>21</th>\n",
       "      <td>22</td>\n",
       "      <td>8.90</td>\n",
       "      <td>Bocchi the Rock!</td>\n",
       "      <td>TV (12 eps)</td>\n",
       "      <td>Oct 2022 - Dec 2022</td>\n",
       "      <td>368,900 members</td>\n",
       "      <td>https://myanimelist.net/anime/47917/Bocchi_the...</td>\n",
       "      <td>TV (</td>\n",
       "      <td>12</td>\n",
       "    </tr>\n",
       "    <tr>\n",
       "      <th>22</th>\n",
       "      <td>23</td>\n",
       "      <td>8.89</td>\n",
       "      <td>Kaguya-sama wa Kokurasetai: First Kiss wa Owar...</td>\n",
       "      <td>Movie (1 eps)</td>\n",
       "      <td>Dec 2022 - Dec 2022</td>\n",
       "      <td>110,674 members</td>\n",
       "      <td>https://myanimelist.net/anime/52198/Kaguya-sam...</td>\n",
       "      <td>Movie (</td>\n",
       "      <td>1</td>\n",
       "    </tr>\n",
       "    <tr>\n",
       "      <th>23</th>\n",
       "      <td>24</td>\n",
       "      <td>8.88</td>\n",
       "      <td>Gintama.: Shirogane no Tamashii-hen - Kouhan-sen</td>\n",
       "      <td>TV (14 eps)</td>\n",
       "      <td>Jul 2018 - Oct 2018</td>\n",
       "      <td>181,632 members</td>\n",
       "      <td>https://myanimelist.net/anime/37491/Gintama__S...</td>\n",
       "      <td>TV (</td>\n",
       "      <td>14</td>\n",
       "    </tr>\n",
       "    <tr>\n",
       "      <th>24</th>\n",
       "      <td>25</td>\n",
       "      <td>8.88</td>\n",
       "      <td>Owarimonogatari 2nd Season</td>\n",
       "      <td>TV (7 eps)</td>\n",
       "      <td>Aug 2017 - Aug 2017</td>\n",
       "      <td>374,461 members</td>\n",
       "      <td>https://myanimelist.net/anime/35247/Owarimonog...</td>\n",
       "      <td>TV (</td>\n",
       "      <td>7</td>\n",
       "    </tr>\n",
       "    <tr>\n",
       "      <th>25</th>\n",
       "      <td>26</td>\n",
       "      <td>8.86</td>\n",
       "      <td>Monster</td>\n",
       "      <td>TV (74 eps)</td>\n",
       "      <td>Apr 2004 - Sep 2005</td>\n",
       "      <td>979,864 members</td>\n",
       "      <td>https://myanimelist.net/anime/19/Monster</td>\n",
       "      <td>TV (</td>\n",
       "      <td>74</td>\n",
       "    </tr>\n",
       "    <tr>\n",
       "      <th>26</th>\n",
       "      <td>27</td>\n",
       "      <td>8.85</td>\n",
       "      <td>Kimi no Na wa.</td>\n",
       "      <td>Movie (1 eps)</td>\n",
       "      <td>Aug 2016 - Aug 2016</td>\n",
       "      <td>2,550,090 members</td>\n",
       "      <td>https://myanimelist.net/anime/32281/Kimi_no_Na_wa</td>\n",
       "      <td>Movie (</td>\n",
       "      <td>1</td>\n",
       "    </tr>\n",
       "    <tr>\n",
       "      <th>27</th>\n",
       "      <td>28</td>\n",
       "      <td>8.81</td>\n",
       "      <td>Gintama.: Shirogane no Tamashii-hen</td>\n",
       "      <td>TV (12 eps)</td>\n",
       "      <td>Jan 2018 - Mar 2018</td>\n",
       "      <td>196,081 members</td>\n",
       "      <td>https://myanimelist.net/anime/36838/Gintama__S...</td>\n",
       "      <td>TV (</td>\n",
       "      <td>12</td>\n",
       "    </tr>\n",
       "    <tr>\n",
       "      <th>28</th>\n",
       "      <td>29</td>\n",
       "      <td>8.81</td>\n",
       "      <td>Kimetsu no Yaiba: Yuukaku-hen</td>\n",
       "      <td>TV (11 eps)</td>\n",
       "      <td>Dec 2021 - Feb 2022</td>\n",
       "      <td>1,174,182 members</td>\n",
       "      <td>https://myanimelist.net/anime/47778/Kimetsu_no...</td>\n",
       "      <td>TV (</td>\n",
       "      <td>11</td>\n",
       "    </tr>\n",
       "    <tr>\n",
       "      <th>29</th>\n",
       "      <td>30</td>\n",
       "      <td>8.81</td>\n",
       "      <td>Kingdom 3rd Season</td>\n",
       "      <td>TV (26 eps)</td>\n",
       "      <td>Apr 2020 - Oct 2021</td>\n",
       "      <td>87,976 members</td>\n",
       "      <td>https://myanimelist.net/anime/40682/Kingdom_3r...</td>\n",
       "      <td>TV (</td>\n",
       "      <td>26</td>\n",
       "    </tr>\n",
       "    <tr>\n",
       "      <th>30</th>\n",
       "      <td>31</td>\n",
       "      <td>8.80</td>\n",
       "      <td>Mob Psycho 100 II</td>\n",
       "      <td>TV (13 eps)</td>\n",
       "      <td>Jan 2019 - Apr 2019</td>\n",
       "      <td>1,402,634 members</td>\n",
       "      <td>https://myanimelist.net/anime/37510/Mob_Psycho...</td>\n",
       "      <td>TV (</td>\n",
       "      <td>13</td>\n",
       "    </tr>\n",
       "    <tr>\n",
       "      <th>31</th>\n",
       "      <td>32</td>\n",
       "      <td>8.80</td>\n",
       "      <td>Shingeki no Kyojin: The Final Season</td>\n",
       "      <td>TV (16 eps)</td>\n",
       "      <td>Dec 2020 - Mar 2021</td>\n",
       "      <td>1,802,499 members</td>\n",
       "      <td>https://myanimelist.net/anime/40028/Shingeki_n...</td>\n",
       "      <td>TV (</td>\n",
       "      <td>16</td>\n",
       "    </tr>\n",
       "    <tr>\n",
       "      <th>32</th>\n",
       "      <td>33</td>\n",
       "      <td>8.79</td>\n",
       "      <td>Kizumonogatari III: Reiketsu-hen</td>\n",
       "      <td>Movie (1 eps)</td>\n",
       "      <td>Jan 2017 - Jan 2017</td>\n",
       "      <td>433,314 members</td>\n",
       "      <td>https://myanimelist.net/anime/31758/Kizumonoga...</td>\n",
       "      <td>Movie (</td>\n",
       "      <td>1</td>\n",
       "    </tr>\n",
       "    <tr>\n",
       "      <th>33</th>\n",
       "      <td>34</td>\n",
       "      <td>8.78</td>\n",
       "      <td>Sen to Chihiro no Kamikakushi</td>\n",
       "      <td>Movie (1 eps)</td>\n",
       "      <td>Jul 2001 - Jul 2001</td>\n",
       "      <td>1,732,132 members</td>\n",
       "      <td>https://myanimelist.net/anime/199/Sen_to_Chihi...</td>\n",
       "      <td>Movie (</td>\n",
       "      <td>1</td>\n",
       "    </tr>\n",
       "    <tr>\n",
       "      <th>34</th>\n",
       "      <td>35</td>\n",
       "      <td>8.78</td>\n",
       "      <td>Haikyuu!! Karasuno Koukou vs. Shiratorizawa Ga...</td>\n",
       "      <td>TV (10 eps)</td>\n",
       "      <td>Oct 2016 - Dec 2016</td>\n",
       "      <td>1,123,027 members</td>\n",
       "      <td>https://myanimelist.net/anime/32935/Haikyuu_Ka...</td>\n",
       "      <td>TV (</td>\n",
       "      <td>10</td>\n",
       "    </tr>\n",
       "    <tr>\n",
       "      <th>35</th>\n",
       "      <td>36</td>\n",
       "      <td>8.77</td>\n",
       "      <td>Monogatari Series: Second Season</td>\n",
       "      <td>TV (26 eps)</td>\n",
       "      <td>Jul 2013 - Dec 2013</td>\n",
       "      <td>640,744 members</td>\n",
       "      <td>https://myanimelist.net/anime/17074/Monogatari...</td>\n",
       "      <td>TV (</td>\n",
       "      <td>26</td>\n",
       "    </tr>\n",
       "    <tr>\n",
       "      <th>36</th>\n",
       "      <td>37</td>\n",
       "      <td>8.77</td>\n",
       "      <td>Shingeki no Kyojin: The Final Season Part 2</td>\n",
       "      <td>TV (12 eps)</td>\n",
       "      <td>Jan 2022 - Apr 2022</td>\n",
       "      <td>1,088,244 members</td>\n",
       "      <td>https://myanimelist.net/anime/48583/Shingeki_n...</td>\n",
       "      <td>TV (</td>\n",
       "      <td>12</td>\n",
       "    </tr>\n",
       "    <tr>\n",
       "      <th>37</th>\n",
       "      <td>38</td>\n",
       "      <td>8.76</td>\n",
       "      <td>Hajime no Ippo</td>\n",
       "      <td>TV (75 eps)</td>\n",
       "      <td>Oct 2000 - Mar 2002</td>\n",
       "      <td>533,666 members</td>\n",
       "      <td>https://myanimelist.net/anime/263/Hajime_no_Ippo</td>\n",
       "      <td>TV (</td>\n",
       "      <td>75</td>\n",
       "    </tr>\n",
       "    <tr>\n",
       "      <th>38</th>\n",
       "      <td>39</td>\n",
       "      <td>8.75</td>\n",
       "      <td>Cowboy Bebop</td>\n",
       "      <td>TV (26 eps)</td>\n",
       "      <td>Apr 1998 - Apr 1999</td>\n",
       "      <td>1,743,398 members</td>\n",
       "      <td>https://myanimelist.net/anime/1/Cowboy_Bebop</td>\n",
       "      <td>TV (</td>\n",
       "      <td>26</td>\n",
       "    </tr>\n",
       "    <tr>\n",
       "      <th>39</th>\n",
       "      <td>40</td>\n",
       "      <td>8.75</td>\n",
       "      <td>Kingdom 4th Season</td>\n",
       "      <td>TV (26 eps)</td>\n",
       "      <td>Apr 2022 - Oct 2022</td>\n",
       "      <td>50,779 members</td>\n",
       "      <td>https://myanimelist.net/anime/50160/Kingdom_4t...</td>\n",
       "      <td>TV (</td>\n",
       "      <td>26</td>\n",
       "    </tr>\n",
       "    <tr>\n",
       "      <th>40</th>\n",
       "      <td>41</td>\n",
       "      <td>8.74</td>\n",
       "      <td>Shiguang Dailiren</td>\n",
       "      <td>ONA (11 eps)</td>\n",
       "      <td>Apr 2021 - Jul 2021</td>\n",
       "      <td>282,659 members</td>\n",
       "      <td>https://myanimelist.net/anime/44074/Shiguang_D...</td>\n",
       "      <td>ONA (</td>\n",
       "      <td>11</td>\n",
       "    </tr>\n",
       "    <tr>\n",
       "      <th>41</th>\n",
       "      <td>42</td>\n",
       "      <td>8.73</td>\n",
       "      <td>Mob Psycho 100 III</td>\n",
       "      <td>TV (12 eps)</td>\n",
       "      <td>Oct 2022 - Dec 2022</td>\n",
       "      <td>532,919 members</td>\n",
       "      <td>https://myanimelist.net/anime/50172/Mob_Psycho...</td>\n",
       "      <td>TV (</td>\n",
       "      <td>12</td>\n",
       "    </tr>\n",
       "    <tr>\n",
       "      <th>42</th>\n",
       "      <td>43</td>\n",
       "      <td>8.73</td>\n",
       "      <td>Mushishi Zoku Shou 2nd Season</td>\n",
       "      <td>TV (10 eps)</td>\n",
       "      <td>Oct 2014 - Dec 2014</td>\n",
       "      <td>251,333 members</td>\n",
       "      <td>https://myanimelist.net/anime/24701/Mushishi_Z...</td>\n",
       "      <td>TV (</td>\n",
       "      <td>10</td>\n",
       "    </tr>\n",
       "    <tr>\n",
       "      <th>43</th>\n",
       "      <td>44</td>\n",
       "      <td>8.73</td>\n",
       "      <td>Shouwa Genroku Rakugo Shinjuu: Sukeroku Futata...</td>\n",
       "      <td>TV (12 eps)</td>\n",
       "      <td>Jan 2017 - Mar 2017</td>\n",
       "      <td>178,552 members</td>\n",
       "      <td>https://myanimelist.net/anime/33095/Shouwa_Gen...</td>\n",
       "      <td>TV (</td>\n",
       "      <td>12</td>\n",
       "    </tr>\n",
       "    <tr>\n",
       "      <th>44</th>\n",
       "      <td>45</td>\n",
       "      <td>8.73</td>\n",
       "      <td>Vinland Saga</td>\n",
       "      <td>TV (24 eps)</td>\n",
       "      <td>Jul 2019 - Dec 2019</td>\n",
       "      <td>1,304,706 members</td>\n",
       "      <td>https://myanimelist.net/anime/37521/Vinland_Saga</td>\n",
       "      <td>TV (</td>\n",
       "      <td>24</td>\n",
       "    </tr>\n",
       "    <tr>\n",
       "      <th>45</th>\n",
       "      <td>46</td>\n",
       "      <td>8.71</td>\n",
       "      <td>86 Part 2</td>\n",
       "      <td>TV (12 eps)</td>\n",
       "      <td>Oct 2021 - Mar 2022</td>\n",
       "      <td>411,149 members</td>\n",
       "      <td>https://myanimelist.net/anime/48569/86_Part_2</td>\n",
       "      <td>TV (</td>\n",
       "      <td>12</td>\n",
       "    </tr>\n",
       "    <tr>\n",
       "      <th>46</th>\n",
       "      <td>47</td>\n",
       "      <td>8.71</td>\n",
       "      <td>Ashita no Joe 2</td>\n",
       "      <td>TV (47 eps)</td>\n",
       "      <td>Oct 1980 - Aug 1981</td>\n",
       "      <td>46,660 members</td>\n",
       "      <td>https://myanimelist.net/anime/2921/Ashita_no_J...</td>\n",
       "      <td>TV (</td>\n",
       "      <td>47</td>\n",
       "    </tr>\n",
       "    <tr>\n",
       "      <th>47</th>\n",
       "      <td>48</td>\n",
       "      <td>8.71</td>\n",
       "      <td>Rurouni Kenshin: Meiji Kenkaku Romantan - Tsui...</td>\n",
       "      <td>OVA (4 eps)</td>\n",
       "      <td>Feb 1999 - Sep 1999</td>\n",
       "      <td>266,560 members</td>\n",
       "      <td>https://myanimelist.net/anime/44/Rurouni_Kensh...</td>\n",
       "      <td>OVA (</td>\n",
       "      <td>4</td>\n",
       "    </tr>\n",
       "    <tr>\n",
       "      <th>48</th>\n",
       "      <td>49</td>\n",
       "      <td>8.70</td>\n",
       "      <td>Mushishi Zoku Shou</td>\n",
       "      <td>TV (10 eps)</td>\n",
       "      <td>Apr 2014 - Jun 2014</td>\n",
       "      <td>284,745 members</td>\n",
       "      <td>https://myanimelist.net/anime/21939/Mushishi_Z...</td>\n",
       "      <td>TV (</td>\n",
       "      <td>10</td>\n",
       "    </tr>\n",
       "    <tr>\n",
       "      <th>49</th>\n",
       "      <td>50</td>\n",
       "      <td>8.70</td>\n",
       "      <td>Mushoku Tensei: Isekai Ittara Honki Dasu Part 2</td>\n",
       "      <td>TV (12 eps)</td>\n",
       "      <td>Oct 2021 - Dec 2021</td>\n",
       "      <td>752,724 members</td>\n",
       "      <td>https://myanimelist.net/anime/45576/Mushoku_Te...</td>\n",
       "      <td>TV (</td>\n",
       "      <td>12</td>\n",
       "    </tr>\n",
       "  </tbody>\n",
       "</table>\n",
       "</div>"
      ],
      "text/plain": [
       "   Ranking Score                                              Title  \\\n",
       "0        1  9.13  Shingeki no Kyojin: The Final Season - Kankets...   \n",
       "1        2  9.11                   Fullmetal Alchemist: Brotherhood   \n",
       "2        3  9.08                          Bleach: Sennen Kessen-hen   \n",
       "3        4  9.08                                        Steins;Gate   \n",
       "4        5  9.07                                           Gintama°   \n",
       "5        6  9.06         Kaguya-sama wa Kokurasetai: Ultra Romantic   \n",
       "6        7  9.06                 Shingeki no Kyojin Season 3 Part 2   \n",
       "7        8  9.05                                 Gintama: The Final   \n",
       "8        9  9.04                                           Gintama'   \n",
       "9       10  9.04                             Hunter x Hunter (2011)   \n",
       "10      11  9.03                               Ginga Eiyuu Densetsu   \n",
       "11      12  9.03                                Gintama': Enchousen   \n",
       "12      13  9.01                           Fruits Basket: The Final   \n",
       "13      14  8.99                                           Gintama.   \n",
       "14      15  8.94                         3-gatsu no Lion 2nd Season   \n",
       "15      16  8.94                                            Gintama   \n",
       "16      17  8.94                                     Koe no Katachi   \n",
       "17      18  8.93                               Clannad: After Story   \n",
       "18      19  8.92  Gintama Movie 2: Kanketsu-hen - Yorozuya yo Ei...   \n",
       "19      20  8.91                 Code Geass: Hangyaku no Lelouch R2   \n",
       "20      21  8.91                            Violet Evergarden Movie   \n",
       "21      22  8.90                                   Bocchi the Rock!   \n",
       "22      23  8.89  Kaguya-sama wa Kokurasetai: First Kiss wa Owar...   \n",
       "23      24  8.88   Gintama.: Shirogane no Tamashii-hen - Kouhan-sen   \n",
       "24      25  8.88                         Owarimonogatari 2nd Season   \n",
       "25      26  8.86                                            Monster   \n",
       "26      27  8.85                                     Kimi no Na wa.   \n",
       "27      28  8.81                Gintama.: Shirogane no Tamashii-hen   \n",
       "28      29  8.81                      Kimetsu no Yaiba: Yuukaku-hen   \n",
       "29      30  8.81                                 Kingdom 3rd Season   \n",
       "30      31  8.80                                  Mob Psycho 100 II   \n",
       "31      32  8.80               Shingeki no Kyojin: The Final Season   \n",
       "32      33  8.79                   Kizumonogatari III: Reiketsu-hen   \n",
       "33      34  8.78                      Sen to Chihiro no Kamikakushi   \n",
       "34      35  8.78  Haikyuu!! Karasuno Koukou vs. Shiratorizawa Ga...   \n",
       "35      36  8.77                   Monogatari Series: Second Season   \n",
       "36      37  8.77        Shingeki no Kyojin: The Final Season Part 2   \n",
       "37      38  8.76                                     Hajime no Ippo   \n",
       "38      39  8.75                                       Cowboy Bebop   \n",
       "39      40  8.75                                 Kingdom 4th Season   \n",
       "40      41  8.74                                  Shiguang Dailiren   \n",
       "41      42  8.73                                 Mob Psycho 100 III   \n",
       "42      43  8.73                      Mushishi Zoku Shou 2nd Season   \n",
       "43      44  8.73  Shouwa Genroku Rakugo Shinjuu: Sukeroku Futata...   \n",
       "44      45  8.73                                       Vinland Saga   \n",
       "45      46  8.71                                          86 Part 2   \n",
       "46      47  8.71                                    Ashita no Joe 2   \n",
       "47      48  8.71  Rurouni Kenshin: Meiji Kenkaku Romantan - Tsui...   \n",
       "48      49  8.70                                 Mushishi Zoku Shou   \n",
       "49      50  8.70    Mushoku Tensei: Isekai Ittara Honki Dasu Part 2   \n",
       "\n",
       "   Number of Episodes        Emission Date            Members  \\\n",
       "0     Special (2 eps)      Mar 2023 - 2023    369,552 members   \n",
       "1         TV (64 eps)  Apr 2009 - Jul 2010  3,119,535 members   \n",
       "2         TV (13 eps)  Oct 2022 - Dec 2022    410,626 members   \n",
       "3         TV (24 eps)  Apr 2011 - Sep 2011  2,400,946 members   \n",
       "4         TV (51 eps)  Apr 2015 - Mar 2016    583,925 members   \n",
       "5         TV (13 eps)  Apr 2022 - Jun 2022    779,658 members   \n",
       "6         TV (10 eps)  Apr 2019 - Jul 2019  2,055,344 members   \n",
       "7       Movie (1 eps)  Jan 2021 - Jan 2021    127,561 members   \n",
       "8         TV (51 eps)  Apr 2011 - Mar 2012    515,388 members   \n",
       "9        TV (148 eps)  Oct 2011 - Sep 2014  2,607,039 members   \n",
       "10      OVA (110 eps)  Jan 1988 - Mar 1997    300,669 members   \n",
       "11        TV (13 eps)  Oct 2012 - Mar 2013    304,118 members   \n",
       "12        TV (13 eps)  Apr 2021 - Jun 2021    415,958 members   \n",
       "13        TV (12 eps)  Jan 2017 - Mar 2017    292,400 members   \n",
       "14        TV (22 eps)  Oct 2017 - Mar 2018    377,726 members   \n",
       "15       TV (201 eps)  Apr 2006 - Mar 2010  1,009,686 members   \n",
       "16      Movie (1 eps)  Sep 2016 - Sep 2016  2,151,178 members   \n",
       "17        TV (24 eps)  Oct 2008 - Mar 2009  1,136,709 members   \n",
       "18      Movie (1 eps)  Jul 2013 - Jul 2013    225,753 members   \n",
       "19        TV (25 eps)  Apr 2008 - Sep 2008  1,675,389 members   \n",
       "20      Movie (1 eps)  Sep 2020 - Sep 2020    528,185 members   \n",
       "21        TV (12 eps)  Oct 2022 - Dec 2022    368,900 members   \n",
       "22      Movie (1 eps)  Dec 2022 - Dec 2022    110,674 members   \n",
       "23        TV (14 eps)  Jul 2018 - Oct 2018    181,632 members   \n",
       "24         TV (7 eps)  Aug 2017 - Aug 2017    374,461 members   \n",
       "25        TV (74 eps)  Apr 2004 - Sep 2005    979,864 members   \n",
       "26      Movie (1 eps)  Aug 2016 - Aug 2016  2,550,090 members   \n",
       "27        TV (12 eps)  Jan 2018 - Mar 2018    196,081 members   \n",
       "28        TV (11 eps)  Dec 2021 - Feb 2022  1,174,182 members   \n",
       "29        TV (26 eps)  Apr 2020 - Oct 2021     87,976 members   \n",
       "30        TV (13 eps)  Jan 2019 - Apr 2019  1,402,634 members   \n",
       "31        TV (16 eps)  Dec 2020 - Mar 2021  1,802,499 members   \n",
       "32      Movie (1 eps)  Jan 2017 - Jan 2017    433,314 members   \n",
       "33      Movie (1 eps)  Jul 2001 - Jul 2001  1,732,132 members   \n",
       "34        TV (10 eps)  Oct 2016 - Dec 2016  1,123,027 members   \n",
       "35        TV (26 eps)  Jul 2013 - Dec 2013    640,744 members   \n",
       "36        TV (12 eps)  Jan 2022 - Apr 2022  1,088,244 members   \n",
       "37        TV (75 eps)  Oct 2000 - Mar 2002    533,666 members   \n",
       "38        TV (26 eps)  Apr 1998 - Apr 1999  1,743,398 members   \n",
       "39        TV (26 eps)  Apr 2022 - Oct 2022     50,779 members   \n",
       "40       ONA (11 eps)  Apr 2021 - Jul 2021    282,659 members   \n",
       "41        TV (12 eps)  Oct 2022 - Dec 2022    532,919 members   \n",
       "42        TV (10 eps)  Oct 2014 - Dec 2014    251,333 members   \n",
       "43        TV (12 eps)  Jan 2017 - Mar 2017    178,552 members   \n",
       "44        TV (24 eps)  Jul 2019 - Dec 2019  1,304,706 members   \n",
       "45        TV (12 eps)  Oct 2021 - Mar 2022    411,149 members   \n",
       "46        TV (47 eps)  Oct 1980 - Aug 1981     46,660 members   \n",
       "47        OVA (4 eps)  Feb 1999 - Sep 1999    266,560 members   \n",
       "48        TV (10 eps)  Apr 2014 - Jun 2014    284,745 members   \n",
       "49        TV (12 eps)  Oct 2021 - Dec 2021    752,724 members   \n",
       "\n",
       "                                                  Url    columnA  columnB  \n",
       "0   https://myanimelist.net/anime/51535/Shingeki_n...  Special (        2  \n",
       "1   https://myanimelist.net/anime/5114/Fullmetal_A...       TV (       64  \n",
       "2   https://myanimelist.net/anime/41467/Bleach__Se...       TV (       13  \n",
       "3      https://myanimelist.net/anime/9253/Steins_Gate       TV (       24  \n",
       "4        https://myanimelist.net/anime/28977/Gintama°       TV (       51  \n",
       "5   https://myanimelist.net/anime/43608/Kaguya-sam...       TV (       13  \n",
       "6   https://myanimelist.net/anime/38524/Shingeki_n...       TV (       10  \n",
       "7   https://myanimelist.net/anime/39486/Gintama__T...    Movie (        1  \n",
       "8          https://myanimelist.net/anime/9969/Gintama       TV (       51  \n",
       "9   https://myanimelist.net/anime/11061/Hunter_x_H...       TV (      148  \n",
       "10  https://myanimelist.net/anime/820/Ginga_Eiyuu_...      OVA (      110  \n",
       "11  https://myanimelist.net/anime/15417/Gintama__E...       TV (       13  \n",
       "12  https://myanimelist.net/anime/42938/Fruits_Bas...       TV (       13  \n",
       "13        https://myanimelist.net/anime/34096/Gintama       TV (       12  \n",
       "14  https://myanimelist.net/anime/35180/3-gatsu_no...       TV (       22  \n",
       "15          https://myanimelist.net/anime/918/Gintama       TV (      201  \n",
       "16  https://myanimelist.net/anime/28851/Koe_no_Kat...    Movie (        1  \n",
       "17  https://myanimelist.net/anime/4181/Clannad__Af...       TV (       24  \n",
       "18  https://myanimelist.net/anime/15335/Gintama_Mo...    Movie (        1  \n",
       "19  https://myanimelist.net/anime/2904/Code_Geass_...       TV (       25  \n",
       "20  https://myanimelist.net/anime/37987/Violet_Eve...    Movie (        1  \n",
       "21  https://myanimelist.net/anime/47917/Bocchi_the...       TV (       12  \n",
       "22  https://myanimelist.net/anime/52198/Kaguya-sam...    Movie (        1  \n",
       "23  https://myanimelist.net/anime/37491/Gintama__S...       TV (       14  \n",
       "24  https://myanimelist.net/anime/35247/Owarimonog...       TV (        7  \n",
       "25           https://myanimelist.net/anime/19/Monster       TV (       74  \n",
       "26  https://myanimelist.net/anime/32281/Kimi_no_Na_wa    Movie (        1  \n",
       "27  https://myanimelist.net/anime/36838/Gintama__S...       TV (       12  \n",
       "28  https://myanimelist.net/anime/47778/Kimetsu_no...       TV (       11  \n",
       "29  https://myanimelist.net/anime/40682/Kingdom_3r...       TV (       26  \n",
       "30  https://myanimelist.net/anime/37510/Mob_Psycho...       TV (       13  \n",
       "31  https://myanimelist.net/anime/40028/Shingeki_n...       TV (       16  \n",
       "32  https://myanimelist.net/anime/31758/Kizumonoga...    Movie (        1  \n",
       "33  https://myanimelist.net/anime/199/Sen_to_Chihi...    Movie (        1  \n",
       "34  https://myanimelist.net/anime/32935/Haikyuu_Ka...       TV (       10  \n",
       "35  https://myanimelist.net/anime/17074/Monogatari...       TV (       26  \n",
       "36  https://myanimelist.net/anime/48583/Shingeki_n...       TV (       12  \n",
       "37   https://myanimelist.net/anime/263/Hajime_no_Ippo       TV (       75  \n",
       "38       https://myanimelist.net/anime/1/Cowboy_Bebop       TV (       26  \n",
       "39  https://myanimelist.net/anime/50160/Kingdom_4t...       TV (       26  \n",
       "40  https://myanimelist.net/anime/44074/Shiguang_D...      ONA (       11  \n",
       "41  https://myanimelist.net/anime/50172/Mob_Psycho...       TV (       12  \n",
       "42  https://myanimelist.net/anime/24701/Mushishi_Z...       TV (       10  \n",
       "43  https://myanimelist.net/anime/33095/Shouwa_Gen...       TV (       12  \n",
       "44   https://myanimelist.net/anime/37521/Vinland_Saga       TV (       24  \n",
       "45      https://myanimelist.net/anime/48569/86_Part_2       TV (       12  \n",
       "46  https://myanimelist.net/anime/2921/Ashita_no_J...       TV (       47  \n",
       "47  https://myanimelist.net/anime/44/Rurouni_Kensh...      OVA (        4  \n",
       "48  https://myanimelist.net/anime/21939/Mushishi_Z...       TV (       10  \n",
       "49  https://myanimelist.net/anime/45576/Mushoku_Te...       TV (       12  "
      ]
     },
     "execution_count": 57,
     "metadata": {},
     "output_type": "execute_result"
    }
   ],
   "source": [
    "df"
   ]
  },
  {
   "cell_type": "code",
   "execution_count": null,
   "id": "9372a4d5-b234-432f-9811-d4197a6dbb48",
   "metadata": {},
   "outputs": [],
   "source": []
  }
 ],
 "metadata": {
  "kernelspec": {
   "display_name": "Python 3 (ipykernel)",
   "language": "python",
   "name": "python3"
  },
  "language_info": {
   "codemirror_mode": {
    "name": "ipython",
    "version": 3
   },
   "file_extension": ".py",
   "mimetype": "text/x-python",
   "name": "python",
   "nbconvert_exporter": "python",
   "pygments_lexer": "ipython3",
   "version": "3.10.9"
  }
 },
 "nbformat": 4,
 "nbformat_minor": 5
}
