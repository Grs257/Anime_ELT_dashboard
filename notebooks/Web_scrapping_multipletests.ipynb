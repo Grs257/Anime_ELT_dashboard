{
 "cells": [
  {
   "cell_type": "markdown",
   "id": "f0268469-fb31-4c18-b7a1-d99ceae58ff3",
   "metadata": {},
   "source": [
    "# Web scrapping multiple tests"
   ]
  },
  {
   "cell_type": "code",
   "execution_count": 32,
   "id": "8450543d-299d-4a31-9671-86ec60365895",
   "metadata": {
    "tags": []
   },
   "outputs": [],
   "source": [
    "# Import required libraries\n",
    "import requests\n",
    "from bs4 import BeautifulSoup\n",
    "import pandas as pd\n",
    "import re"
   ]
  },
  {
   "cell_type": "code",
   "execution_count": 2,
   "id": "86c10785-f55e-479f-94b2-3c6ef496f593",
   "metadata": {
    "tags": []
   },
   "outputs": [],
   "source": [
    "#Function to send an HTTP request and parse the HTML content of the page\n",
    "def fetch_html(url):\n",
    "    response = requests.get(url)  # Send an HTTP GET request to the URL\n",
    "    if response.status_code == 200:  # Check if the request was successful (status code 200)\n",
    "        # Parse the response content with BeautifulSoup and return the parsed HTML\n",
    "        return BeautifulSoup(response.content, 'lxml')\n",
    "    else:\n",
    "        return None"
   ]
  },
  {
   "cell_type": "code",
   "execution_count": 3,
   "id": "59dc2eb1-3dab-487f-be51-83a98fa36cd3",
   "metadata": {
    "tags": []
   },
   "outputs": [],
   "source": [
    "url = \"https://myanimelist.net/topanime.php\"  # Define the target URL\n",
    "soup = fetch_html(url)  # Fetch and parse the HTML content from the URL"
   ]
  },
  {
   "cell_type": "markdown",
   "id": "ff2d3c75-192a-4a1d-9ddc-238c3bed9e96",
   "metadata": {},
   "source": [
    "# Scrapping Shingeki no Kyojin"
   ]
  },
  {
   "cell_type": "markdown",
   "id": "2616857d-6290-4cb4-9636-f2ce54ca3cf1",
   "metadata": {
    "tags": []
   },
   "source": [
    "## Anime Ranking "
   ]
  },
  {
   "cell_type": "code",
   "execution_count": 4,
   "id": "d92a0aaa-79b7-4807-8761-6b62ffd3a336",
   "metadata": {
    "tags": []
   },
   "outputs": [
    {
     "data": {
      "text/plain": [
       "'1'"
      ]
     },
     "execution_count": 4,
     "metadata": {},
     "output_type": "execute_result"
    }
   ],
   "source": [
    "soup.find('span',class_=\"lightLink top-anime-rank-text rank1\").text"
   ]
  },
  {
   "cell_type": "markdown",
   "id": "b5401ccb-692f-4d19-8918-36a333f79639",
   "metadata": {},
   "source": [
    "## Anime Score"
   ]
  },
  {
   "cell_type": "code",
   "execution_count": 5,
   "id": "8a130521-87a6-433d-998f-033021d976f2",
   "metadata": {
    "tags": []
   },
   "outputs": [
    {
     "data": {
      "text/plain": [
       "'9.13'"
      ]
     },
     "execution_count": 5,
     "metadata": {},
     "output_type": "execute_result"
    }
   ],
   "source": [
    "soup.find('span',class_=\"text on score-label score-9\").text"
   ]
  },
  {
   "cell_type": "markdown",
   "id": "24f8b1f6-1513-4f88-b424-a15f648ceacb",
   "metadata": {},
   "source": [
    "### Anime name"
   ]
  },
  {
   "cell_type": "code",
   "execution_count": 6,
   "id": "ccc53f46-b340-4b9a-b91d-06db0df59d4a",
   "metadata": {
    "tags": []
   },
   "outputs": [
    {
     "data": {
      "text/plain": [
       "'Shingeki no Kyojin: The Final Season - Kanketsu-hen'"
      ]
     },
     "execution_count": 6,
     "metadata": {},
     "output_type": "execute_result"
    }
   ],
   "source": [
    "soup.find('div',class_=\"di-ib clearfix\").a.text"
   ]
  },
  {
   "cell_type": "markdown",
   "id": "df55152a-7333-46c2-b150-3fe23e95bdb7",
   "metadata": {},
   "source": [
    "### Anime URL"
   ]
  },
  {
   "cell_type": "code",
   "execution_count": 7,
   "id": "c8b7f260-ef87-4640-873f-1c664ef36340",
   "metadata": {
    "tags": []
   },
   "outputs": [
    {
     "data": {
      "text/plain": [
       "'https://myanimelist.net/anime/51535/Shingeki_no_Kyojin__The_Final_Season_-_Kanketsu-hen'"
      ]
     },
     "execution_count": 7,
     "metadata": {},
     "output_type": "execute_result"
    }
   ],
   "source": [
    "soup.find('div', class_=\"di-ib clearfix\").a['href']"
   ]
  },
  {
   "cell_type": "markdown",
   "id": "ebc1fffb-0d81-4e11-b7f1-10cfa9df0c99",
   "metadata": {},
   "source": [
    "### Number of episodes"
   ]
  },
  {
   "cell_type": "code",
   "execution_count": 8,
   "id": "31cf13d2-a7e0-44ea-9f90-fbe959c8704f",
   "metadata": {
    "tags": []
   },
   "outputs": [
    {
     "data": {
      "text/plain": [
       "'Special (2 eps)'"
      ]
     },
     "execution_count": 8,
     "metadata": {},
     "output_type": "execute_result"
    }
   ],
   "source": [
    "soup.find('div',class_=\"information di-ib mt4\").text.split('\\n')[1].strip()"
   ]
  },
  {
   "cell_type": "markdown",
   "id": "b49b9263-fbb1-41c1-b77f-0847c0f67de6",
   "metadata": {},
   "source": [
    "### Emission date"
   ]
  },
  {
   "cell_type": "code",
   "execution_count": 9,
   "id": "756377ce-6b1c-4f8c-8da4-6e51b9115222",
   "metadata": {
    "tags": []
   },
   "outputs": [
    {
     "data": {
      "text/plain": [
       "'Mar 2023 - 2023'"
      ]
     },
     "execution_count": 9,
     "metadata": {},
     "output_type": "execute_result"
    }
   ],
   "source": [
    "soup.find('div',class_=\"information di-ib mt4\").text.split('\\n')[2].strip()"
   ]
  },
  {
   "cell_type": "markdown",
   "id": "9646d36f-6006-4a2d-a8ed-db8ffcdcacdb",
   "metadata": {},
   "source": [
    "### Number of members"
   ]
  },
  {
   "cell_type": "code",
   "execution_count": 10,
   "id": "f7046e33-cff0-421b-aca4-264c49ba99a7",
   "metadata": {
    "tags": []
   },
   "outputs": [
    {
     "data": {
      "text/plain": [
       "'370,241 members'"
      ]
     },
     "execution_count": 10,
     "metadata": {},
     "output_type": "execute_result"
    }
   ],
   "source": [
    "soup.find('div',class_=\"information di-ib mt4\").text.split('\\n')[3].strip()"
   ]
  },
  {
   "cell_type": "markdown",
   "id": "07d2f4a5-5708-4495-9144-ef03b3c632e1",
   "metadata": {},
   "source": [
    "# For every anime"
   ]
  },
  {
   "cell_type": "markdown",
   "id": "ce9ccd64-e7ad-4602-93be-e2de308b8346",
   "metadata": {},
   "source": [
    "Each anime is stored in the \"tr class=\"ranking-list\"\" object which contains all the above information for each anime"
   ]
  },
  {
   "cell_type": "code",
   "execution_count": 11,
   "id": "33371454-472d-4ee7-902f-6c0a8bc9a71f",
   "metadata": {
    "tags": []
   },
   "outputs": [
    {
     "data": {
      "text/plain": [
       "<tr class=\"ranking-list\">\n",
       "<td class=\"rank ac\" valign=\"top\">\n",
       "<span class=\"lightLink top-anime-rank-text rank1\">1</span>\n",
       "</td>\n",
       "<td class=\"title al va-t word-break\">\n",
       "<a class=\"hoverinfo_trigger fl-l ml12 mr8\" href=\"https://myanimelist.net/anime/51535/Shingeki_no_Kyojin__The_Final_Season_-_Kanketsu-hen\" id=\"#area51535\" rel=\"#info51535\">\n",
       "<img alt=\"Anime: Shingeki no Kyojin: The Final Season - Kanketsu-hen\" border=\"0\" class=\"lazyload\" data-src=\"https://cdn.myanimelist.net/r/50x70/images/anime/1977/134922.jpg?s=b3e305320d13cee64ee64de190a7264d\" data-srcset=\"https://cdn.myanimelist.net/r/50x70/images/anime/1977/134922.jpg?s=b3e305320d13cee64ee64de190a7264d 1x, https://cdn.myanimelist.net/r/100x140/images/anime/1977/134922.jpg?s=fbc7c2075557045d8afb2de577e59d62 2x\" height=\"70\" width=\"50\"/>\n",
       "</a>\n",
       "<div class=\"detail\"><div id=\"area51535\">\n",
       "<div class=\"hoverinfo\" id=\"info51535\" rel=\"a51535\"></div>\n",
       "</div>\n",
       "<div class=\"di-ib clearfix\"><h3 class=\"hoverinfo_trigger fl-l fs14 fw-b anime_ranking_h3\"><a href=\"https://myanimelist.net/anime/51535/Shingeki_no_Kyojin__The_Final_Season_-_Kanketsu-hen\" id=\"#area51535\" rel=\"#info51535\">Shingeki no Kyojin: The Final Season - Kanketsu-hen</a></h3><div class=\"icon-watch-pv2\"><a class=\"mal-icon ml8 ga-click\" href=\"https://myanimelist.net/anime/51535/Shingeki_no_Kyojin__The_Final_Season_-_Kanketsu-hen/video\" title=\"Watch Promotional Video\"><i class=\"malicon malicon-movie-pv\"></i></a></div></div><br/><div class=\"information di-ib mt4\">\n",
       "        Special (2 eps)<br/>\n",
       "        Mar 2023 - 2023<br/>\n",
       "        370,241 members\n",
       "      </div></div>\n",
       "</td>\n",
       "<td class=\"score ac fs14\"><div class=\"js-top-ranking-score-col di-ib al\"><i class=\"icon-score-star fa-solid fa-star mr4 on\"></i><span class=\"text on score-label score-9\">9.13</span></div>\n",
       "</td>\n",
       "<td class=\"your-score ac fs14\">\n",
       "<div class=\"js-top-ranking-your-score-col di-ib al\"> <a class=\"\" href=\"https://myanimelist.net/login.php?error=login_required&amp;from=%2Ftopanime.php\"><i class=\"icon-score-star fa-solid fa-star mr4\"></i><span class=\"text score-label score-na\">N/A</span></a>\n",
       "</div>\n",
       "</td>\n",
       "<td class=\"status ac\"> <a class=\"btn-addEdit-large btn-anime-watch-status js-anime-watch-status notinmylist\" href=\"https://myanimelist.net/login.php?error=login_required&amp;from=%2Ftopanime.php\"><i class=\"fa-solid fa-square-plus-o mr4\"></i>Add to list</a>\n",
       "</td>\n",
       "</tr>"
      ]
     },
     "execution_count": 11,
     "metadata": {},
     "output_type": "execute_result"
    }
   ],
   "source": [
    "soup.find('tr',class_=\"ranking-list\")"
   ]
  },
  {
   "cell_type": "code",
   "execution_count": 12,
   "id": "2fccb415-fddb-4071-915c-dc09f3f3b169",
   "metadata": {
    "tags": []
   },
   "outputs": [
    {
     "data": {
      "text/plain": [
       "'1'"
      ]
     },
     "execution_count": 12,
     "metadata": {},
     "output_type": "execute_result"
    }
   ],
   "source": [
    "soup.find('tr',class_=\"ranking-list\").span.text"
   ]
  },
  {
   "cell_type": "code",
   "execution_count": 13,
   "id": "0fedc1f8-1456-4be8-8d5d-7509dd82108d",
   "metadata": {
    "tags": []
   },
   "outputs": [],
   "source": [
    "# Find the first 'tr' element with class 'ranking-list'\n",
    "tr_element = soup.find('tr', class_=\"ranking-list\")\n",
    "\n",
    "# Find all 'span' elements within the 'tr' element\n",
    "span_elements = tr_element.find_all('span')"
   ]
  },
  {
   "cell_type": "code",
   "execution_count": 14,
   "id": "b793946d-8b80-4587-b88c-ed9a26287002",
   "metadata": {
    "tags": []
   },
   "outputs": [
    {
     "data": {
      "text/plain": [
       "[<span class=\"lightLink top-anime-rank-text rank1\">1</span>,\n",
       " <span class=\"text on score-label score-9\">9.13</span>,\n",
       " <span class=\"text score-label score-na\">N/A</span>]"
      ]
     },
     "execution_count": 14,
     "metadata": {},
     "output_type": "execute_result"
    }
   ],
   "source": [
    "span_elements"
   ]
  },
  {
   "cell_type": "code",
   "execution_count": 15,
   "id": "b62c762b-e021-4701-93a3-d8d308a4a533",
   "metadata": {
    "tags": []
   },
   "outputs": [
    {
     "data": {
      "text/plain": [
       "'1'"
      ]
     },
     "execution_count": 15,
     "metadata": {},
     "output_type": "execute_result"
    }
   ],
   "source": [
    "span_elements[0].text"
   ]
  },
  {
   "cell_type": "code",
   "execution_count": 16,
   "id": "a5eee26e-2bc7-46ff-bd3f-51d2ce31bcbc",
   "metadata": {
    "tags": []
   },
   "outputs": [
    {
     "data": {
      "text/plain": [
       "'9.13'"
      ]
     },
     "execution_count": 16,
     "metadata": {},
     "output_type": "execute_result"
    }
   ],
   "source": [
    "span_elements[1].text"
   ]
  },
  {
   "cell_type": "code",
   "execution_count": 17,
   "id": "3e338fda-81ea-4c70-982b-c8cb8564bdfa",
   "metadata": {
    "tags": []
   },
   "outputs": [],
   "source": [
    "div_elements = tr_element.find('div', class_=\"detail\")"
   ]
  },
  {
   "cell_type": "code",
   "execution_count": 18,
   "id": "e069cb4d-d166-43b5-bffa-397f8bf7374f",
   "metadata": {
    "tags": []
   },
   "outputs": [
    {
     "data": {
      "text/plain": [
       "<div class=\"detail\"><div id=\"area51535\">\n",
       "<div class=\"hoverinfo\" id=\"info51535\" rel=\"a51535\"></div>\n",
       "</div>\n",
       "<div class=\"di-ib clearfix\"><h3 class=\"hoverinfo_trigger fl-l fs14 fw-b anime_ranking_h3\"><a href=\"https://myanimelist.net/anime/51535/Shingeki_no_Kyojin__The_Final_Season_-_Kanketsu-hen\" id=\"#area51535\" rel=\"#info51535\">Shingeki no Kyojin: The Final Season - Kanketsu-hen</a></h3><div class=\"icon-watch-pv2\"><a class=\"mal-icon ml8 ga-click\" href=\"https://myanimelist.net/anime/51535/Shingeki_no_Kyojin__The_Final_Season_-_Kanketsu-hen/video\" title=\"Watch Promotional Video\"><i class=\"malicon malicon-movie-pv\"></i></a></div></div><br/><div class=\"information di-ib mt4\">\n",
       "        Special (2 eps)<br/>\n",
       "        Mar 2023 - 2023<br/>\n",
       "        370,241 members\n",
       "      </div></div>"
      ]
     },
     "execution_count": 18,
     "metadata": {},
     "output_type": "execute_result"
    }
   ],
   "source": [
    "div_elements"
   ]
  },
  {
   "cell_type": "code",
   "execution_count": 23,
   "id": "68b45c2c-c5d4-4380-bb1e-542c7872760b",
   "metadata": {
    "tags": []
   },
   "outputs": [
    {
     "data": {
      "text/plain": [
       "'1'"
      ]
     },
     "execution_count": 23,
     "metadata": {},
     "output_type": "execute_result"
    }
   ],
   "source": [
    "soup.find('span', class_=\"lightLink top-anime-rank-text rank1\").text"
   ]
  },
  {
   "cell_type": "markdown",
   "id": "f545ca71-b621-46e8-b227-7624e16b60cb",
   "metadata": {},
   "source": [
    "# First 50 animes"
   ]
  },
  {
   "cell_type": "code",
   "execution_count": 89,
   "id": "1d7f2d2f-1e03-405e-b600-2c45fe520bdb",
   "metadata": {
    "tags": []
   },
   "outputs": [],
   "source": [
    "# Create empty lists to store the extracted information\n",
    "rankings = []\n",
    "scores = []\n",
    "titles = []\n",
    "number_episodes_list = []\n",
    "emission_dates = []\n",
    "members_list = []\n",
    "urls= []\n",
    "\n",
    "\n",
    "# Loop through each anime element and extract the information\n",
    "for anime_element in soup.find_all('tr', class_='ranking-list'):\n",
    "    # getting the span elements inside the element of ranking-list\n",
    "    span_elements = anime_element.find_all('span')\n",
    "    ranking = span_elements[0].text\n",
    "    score = span_elements[1].text\n",
    "    title = anime_element.find('div',class_=\"di-ib clearfix\").a.text\n",
    "    number_episodes = anime_element.find('div',class_=\"information di-ib mt4\").text.split('\\n')[1].strip()\n",
    "    emission_date = anime_element.find('div',class_=\"information di-ib mt4\").text.split('\\n')[2].strip()\n",
    "    members = anime_element.find('div', class_=\"information di-ib mt4\").text.split('\\n')[3].strip()\n",
    "    url= anime_element.find('div', class_=\"di-ib clearfix\").a['href']\n",
    "\n",
    "    # Append the extracted information to the lists\n",
    "    rankings.append(ranking)\n",
    "    scores.append(score)\n",
    "    titles.append(title)\n",
    "    number_episodes_list.append(number_episodes)\n",
    "    emission_dates.append(emission_date)\n",
    "    members_list.append(members)\n",
    "    urls.append(url)\n",
    "    \n",
    "\n",
    "# Create a dictionary with keys as column names and values as the lists of extracted data\n",
    "data = {\n",
    "    'ranking': rankings,\n",
    "    'score': scores,\n",
    "    'title': titles,\n",
    "    'number_of_episodes': number_episodes_list,\n",
    "    'emission_date': emission_dates,\n",
    "    'number_members': members_list,\n",
    "    'url': urls\n",
    "}\n",
    "\n",
    "# Convert the dictionary to a pandas DataFrame\n",
    "df = pd.DataFrame(data)"
   ]
  },
  {
   "cell_type": "markdown",
   "id": "214efdcf-d83a-42f8-b476-afbac7ca3ae3",
   "metadata": {},
   "source": [
    "## Cleaning Pandas Dataframe"
   ]
  },
  {
   "cell_type": "code",
   "execution_count": 99,
   "id": "d3fac415-218f-4bf4-93e7-ad5dc80f6ffd",
   "metadata": {
    "tags": []
   },
   "outputs": [],
   "source": [
    "top_anime = (\n",
    "    df\n",
    "        .assign(\n",
    "            type_of_emission = lambda df_: df_['number_of_episodes'].str.extract(r'(\\D+)'),\n",
    "            emission_type = lambda df_: df_['type_of_emission'].str.replace('(', '', regex=True),\n",
    "            number_episode = lambda df_: df_['number_of_episodes'].str.extract(r'(\\d+)'),\n",
    "            miembros = lambda df_: df_['number_members'].str.replace('members', '', regex=True),\n",
    "            members = lambda df_: df_['miembros'].str.replace(',', '', regex=True)\n",
    "        #end assign\n",
    "        )\n",
    "        .drop(columns= ['number_of_episodes','type_of_emission','miembros','number_members'])\n",
    "    #end preprocessing\n",
    "    )"
   ]
  },
  {
   "cell_type": "code",
   "execution_count": 113,
   "id": "d17f1167-51cd-48d2-a255-eac74f449d4f",
   "metadata": {
    "tags": []
   },
   "outputs": [],
   "source": [
    "# Split the 'emission_date' column into two new columns using the ' - ' delimiter\n",
    "split_columns = top_anime['emission_date'].str.split(' - ', expand=True)\n",
    "\n",
    "top_anime = (\n",
    "    top_anime\n",
    "        .assign(\n",
    "            # Assign the new columns to the original DataFrame with the desired names\n",
    "            first_emission = split_columns[0],\n",
    "            last_emission  = split_columns[1],\n",
    "            #ist_emission = lambda df_:df_['first_emission_y'].to_datetime(format='%b %Y')\n",
    "            #df['last_emission'] = pd.to_datetime(df['last_emission'], format='%b %Y')\n",
    "        ))\n",
    "\n",
    "\n",
    "top_anime['first_emission'] = pd.to_datetime(top_anime['first_emission'], format='%b %Y', errors='coerce')\n",
    "top_anime['last_emission'] = pd.to_datetime(top_anime['last_emission'], format='%b %Y', errors='coerce')\n",
    "\n",
    "\n"
   ]
  },
  {
   "cell_type": "code",
   "execution_count": 114,
   "id": "d294b8aa-fa22-42c6-9749-853af1c62e98",
   "metadata": {
    "tags": []
   },
   "outputs": [
    {
     "data": {
      "text/html": [
       "<div>\n",
       "<style scoped>\n",
       "    .dataframe tbody tr th:only-of-type {\n",
       "        vertical-align: middle;\n",
       "    }\n",
       "\n",
       "    .dataframe tbody tr th {\n",
       "        vertical-align: top;\n",
       "    }\n",
       "\n",
       "    .dataframe thead th {\n",
       "        text-align: right;\n",
       "    }\n",
       "</style>\n",
       "<table border=\"1\" class=\"dataframe\">\n",
       "  <thead>\n",
       "    <tr style=\"text-align: right;\">\n",
       "      <th></th>\n",
       "      <th>ranking</th>\n",
       "      <th>score</th>\n",
       "      <th>title</th>\n",
       "      <th>emission_date</th>\n",
       "      <th>url</th>\n",
       "      <th>emission_type</th>\n",
       "      <th>number_episode</th>\n",
       "      <th>members</th>\n",
       "      <th>first_emission_y</th>\n",
       "      <th>last_emission</th>\n",
       "      <th>first_emission</th>\n",
       "    </tr>\n",
       "  </thead>\n",
       "  <tbody>\n",
       "    <tr>\n",
       "      <th>0</th>\n",
       "      <td>1</td>\n",
       "      <td>9.13</td>\n",
       "      <td>Shingeki no Kyojin: The Final Season - Kankets...</td>\n",
       "      <td>Mar 2023 - 2023</td>\n",
       "      <td>https://myanimelist.net/anime/51535/Shingeki_n...</td>\n",
       "      <td>Special</td>\n",
       "      <td>2</td>\n",
       "      <td>370241</td>\n",
       "      <td>Mar 2023</td>\n",
       "      <td>NaT</td>\n",
       "      <td>2023-03-01</td>\n",
       "    </tr>\n",
       "    <tr>\n",
       "      <th>1</th>\n",
       "      <td>2</td>\n",
       "      <td>9.11</td>\n",
       "      <td>Fullmetal Alchemist: Brotherhood</td>\n",
       "      <td>Apr 2009 - Jul 2010</td>\n",
       "      <td>https://myanimelist.net/anime/5114/Fullmetal_A...</td>\n",
       "      <td>TV</td>\n",
       "      <td>64</td>\n",
       "      <td>3119535</td>\n",
       "      <td>Apr 2009</td>\n",
       "      <td>2010-07-01</td>\n",
       "      <td>2009-04-01</td>\n",
       "    </tr>\n",
       "    <tr>\n",
       "      <th>2</th>\n",
       "      <td>3</td>\n",
       "      <td>9.08</td>\n",
       "      <td>Bleach: Sennen Kessen-hen</td>\n",
       "      <td>Oct 2022 - Dec 2022</td>\n",
       "      <td>https://myanimelist.net/anime/41467/Bleach__Se...</td>\n",
       "      <td>TV</td>\n",
       "      <td>13</td>\n",
       "      <td>410998</td>\n",
       "      <td>Oct 2022</td>\n",
       "      <td>2022-12-01</td>\n",
       "      <td>2022-10-01</td>\n",
       "    </tr>\n",
       "    <tr>\n",
       "      <th>3</th>\n",
       "      <td>4</td>\n",
       "      <td>9.08</td>\n",
       "      <td>Steins;Gate</td>\n",
       "      <td>Apr 2011 - Sep 2011</td>\n",
       "      <td>https://myanimelist.net/anime/9253/Steins_Gate</td>\n",
       "      <td>TV</td>\n",
       "      <td>24</td>\n",
       "      <td>2400946</td>\n",
       "      <td>Apr 2011</td>\n",
       "      <td>2011-09-01</td>\n",
       "      <td>2011-04-01</td>\n",
       "    </tr>\n",
       "    <tr>\n",
       "      <th>4</th>\n",
       "      <td>5</td>\n",
       "      <td>9.07</td>\n",
       "      <td>Gintama°</td>\n",
       "      <td>Apr 2015 - Mar 2016</td>\n",
       "      <td>https://myanimelist.net/anime/28977/Gintama°</td>\n",
       "      <td>TV</td>\n",
       "      <td>51</td>\n",
       "      <td>584045</td>\n",
       "      <td>Apr 2015</td>\n",
       "      <td>2016-03-01</td>\n",
       "      <td>2015-04-01</td>\n",
       "    </tr>\n",
       "    <tr>\n",
       "      <th>5</th>\n",
       "      <td>6</td>\n",
       "      <td>9.06</td>\n",
       "      <td>Kaguya-sama wa Kokurasetai: Ultra Romantic</td>\n",
       "      <td>Apr 2022 - Jun 2022</td>\n",
       "      <td>https://myanimelist.net/anime/43608/Kaguya-sam...</td>\n",
       "      <td>TV</td>\n",
       "      <td>13</td>\n",
       "      <td>780136</td>\n",
       "      <td>Apr 2022</td>\n",
       "      <td>2022-06-01</td>\n",
       "      <td>2022-04-01</td>\n",
       "    </tr>\n",
       "    <tr>\n",
       "      <th>6</th>\n",
       "      <td>7</td>\n",
       "      <td>9.06</td>\n",
       "      <td>Shingeki no Kyojin Season 3 Part 2</td>\n",
       "      <td>Apr 2019 - Jul 2019</td>\n",
       "      <td>https://myanimelist.net/anime/38524/Shingeki_n...</td>\n",
       "      <td>TV</td>\n",
       "      <td>10</td>\n",
       "      <td>2055884</td>\n",
       "      <td>Apr 2019</td>\n",
       "      <td>2019-07-01</td>\n",
       "      <td>2019-04-01</td>\n",
       "    </tr>\n",
       "    <tr>\n",
       "      <th>7</th>\n",
       "      <td>8</td>\n",
       "      <td>9.05</td>\n",
       "      <td>Gintama: The Final</td>\n",
       "      <td>Jan 2021 - Jan 2021</td>\n",
       "      <td>https://myanimelist.net/anime/39486/Gintama__T...</td>\n",
       "      <td>Movie</td>\n",
       "      <td>1</td>\n",
       "      <td>127620</td>\n",
       "      <td>Jan 2021</td>\n",
       "      <td>2021-01-01</td>\n",
       "      <td>2021-01-01</td>\n",
       "    </tr>\n",
       "    <tr>\n",
       "      <th>8</th>\n",
       "      <td>9</td>\n",
       "      <td>9.04</td>\n",
       "      <td>Gintama'</td>\n",
       "      <td>Apr 2011 - Mar 2012</td>\n",
       "      <td>https://myanimelist.net/anime/9969/Gintama</td>\n",
       "      <td>TV</td>\n",
       "      <td>51</td>\n",
       "      <td>515388</td>\n",
       "      <td>Apr 2011</td>\n",
       "      <td>2012-03-01</td>\n",
       "      <td>2011-04-01</td>\n",
       "    </tr>\n",
       "    <tr>\n",
       "      <th>9</th>\n",
       "      <td>10</td>\n",
       "      <td>9.04</td>\n",
       "      <td>Hunter x Hunter (2011)</td>\n",
       "      <td>Oct 2011 - Sep 2014</td>\n",
       "      <td>https://myanimelist.net/anime/11061/Hunter_x_H...</td>\n",
       "      <td>TV</td>\n",
       "      <td>148</td>\n",
       "      <td>2607039</td>\n",
       "      <td>Oct 2011</td>\n",
       "      <td>2014-09-01</td>\n",
       "      <td>2011-10-01</td>\n",
       "    </tr>\n",
       "    <tr>\n",
       "      <th>10</th>\n",
       "      <td>11</td>\n",
       "      <td>9.03</td>\n",
       "      <td>Ginga Eiyuu Densetsu</td>\n",
       "      <td>Jan 1988 - Mar 1997</td>\n",
       "      <td>https://myanimelist.net/anime/820/Ginga_Eiyuu_...</td>\n",
       "      <td>OVA</td>\n",
       "      <td>110</td>\n",
       "      <td>300725</td>\n",
       "      <td>Jan 1988</td>\n",
       "      <td>1997-03-01</td>\n",
       "      <td>1988-01-01</td>\n",
       "    </tr>\n",
       "    <tr>\n",
       "      <th>11</th>\n",
       "      <td>12</td>\n",
       "      <td>9.03</td>\n",
       "      <td>Gintama': Enchousen</td>\n",
       "      <td>Oct 2012 - Mar 2013</td>\n",
       "      <td>https://myanimelist.net/anime/15417/Gintama__E...</td>\n",
       "      <td>TV</td>\n",
       "      <td>13</td>\n",
       "      <td>304118</td>\n",
       "      <td>Oct 2012</td>\n",
       "      <td>2013-03-01</td>\n",
       "      <td>2012-10-01</td>\n",
       "    </tr>\n",
       "    <tr>\n",
       "      <th>12</th>\n",
       "      <td>13</td>\n",
       "      <td>9.01</td>\n",
       "      <td>Fruits Basket: The Final</td>\n",
       "      <td>Apr 2021 - Jun 2021</td>\n",
       "      <td>https://myanimelist.net/anime/42938/Fruits_Bas...</td>\n",
       "      <td>TV</td>\n",
       "      <td>13</td>\n",
       "      <td>415958</td>\n",
       "      <td>Apr 2021</td>\n",
       "      <td>2021-06-01</td>\n",
       "      <td>2021-04-01</td>\n",
       "    </tr>\n",
       "    <tr>\n",
       "      <th>13</th>\n",
       "      <td>14</td>\n",
       "      <td>8.99</td>\n",
       "      <td>Gintama.</td>\n",
       "      <td>Jan 2017 - Mar 2017</td>\n",
       "      <td>https://myanimelist.net/anime/34096/Gintama</td>\n",
       "      <td>TV</td>\n",
       "      <td>12</td>\n",
       "      <td>292460</td>\n",
       "      <td>Jan 2017</td>\n",
       "      <td>2017-03-01</td>\n",
       "      <td>2017-01-01</td>\n",
       "    </tr>\n",
       "    <tr>\n",
       "      <th>14</th>\n",
       "      <td>15</td>\n",
       "      <td>8.94</td>\n",
       "      <td>3-gatsu no Lion 2nd Season</td>\n",
       "      <td>Oct 2017 - Mar 2018</td>\n",
       "      <td>https://myanimelist.net/anime/35180/3-gatsu_no...</td>\n",
       "      <td>TV</td>\n",
       "      <td>22</td>\n",
       "      <td>377810</td>\n",
       "      <td>Oct 2017</td>\n",
       "      <td>2018-03-01</td>\n",
       "      <td>2017-10-01</td>\n",
       "    </tr>\n",
       "    <tr>\n",
       "      <th>15</th>\n",
       "      <td>16</td>\n",
       "      <td>8.94</td>\n",
       "      <td>Gintama</td>\n",
       "      <td>Apr 2006 - Mar 2010</td>\n",
       "      <td>https://myanimelist.net/anime/918/Gintama</td>\n",
       "      <td>TV</td>\n",
       "      <td>201</td>\n",
       "      <td>1009830</td>\n",
       "      <td>Apr 2006</td>\n",
       "      <td>2010-03-01</td>\n",
       "      <td>2006-04-01</td>\n",
       "    </tr>\n",
       "    <tr>\n",
       "      <th>16</th>\n",
       "      <td>17</td>\n",
       "      <td>8.94</td>\n",
       "      <td>Koe no Katachi</td>\n",
       "      <td>Sep 2016 - Sep 2016</td>\n",
       "      <td>https://myanimelist.net/anime/28851/Koe_no_Kat...</td>\n",
       "      <td>Movie</td>\n",
       "      <td>1</td>\n",
       "      <td>2151632</td>\n",
       "      <td>Sep 2016</td>\n",
       "      <td>2016-09-01</td>\n",
       "      <td>2016-09-01</td>\n",
       "    </tr>\n",
       "    <tr>\n",
       "      <th>17</th>\n",
       "      <td>18</td>\n",
       "      <td>8.93</td>\n",
       "      <td>Clannad: After Story</td>\n",
       "      <td>Oct 2008 - Mar 2009</td>\n",
       "      <td>https://myanimelist.net/anime/4181/Clannad__Af...</td>\n",
       "      <td>TV</td>\n",
       "      <td>24</td>\n",
       "      <td>1136709</td>\n",
       "      <td>Oct 2008</td>\n",
       "      <td>2009-03-01</td>\n",
       "      <td>2008-10-01</td>\n",
       "    </tr>\n",
       "    <tr>\n",
       "      <th>18</th>\n",
       "      <td>19</td>\n",
       "      <td>8.92</td>\n",
       "      <td>Gintama Movie 2: Kanketsu-hen - Yorozuya yo Ei...</td>\n",
       "      <td>Jul 2013 - Jul 2013</td>\n",
       "      <td>https://myanimelist.net/anime/15335/Gintama_Mo...</td>\n",
       "      <td>Movie</td>\n",
       "      <td>1</td>\n",
       "      <td>225753</td>\n",
       "      <td>Jul 2013</td>\n",
       "      <td>2013-07-01</td>\n",
       "      <td>2013-07-01</td>\n",
       "    </tr>\n",
       "    <tr>\n",
       "      <th>19</th>\n",
       "      <td>20</td>\n",
       "      <td>8.91</td>\n",
       "      <td>Code Geass: Hangyaku no Lelouch R2</td>\n",
       "      <td>Apr 2008 - Sep 2008</td>\n",
       "      <td>https://myanimelist.net/anime/2904/Code_Geass_...</td>\n",
       "      <td>TV</td>\n",
       "      <td>25</td>\n",
       "      <td>1675389</td>\n",
       "      <td>Apr 2008</td>\n",
       "      <td>2008-09-01</td>\n",
       "      <td>2008-04-01</td>\n",
       "    </tr>\n",
       "    <tr>\n",
       "      <th>20</th>\n",
       "      <td>21</td>\n",
       "      <td>8.91</td>\n",
       "      <td>Violet Evergarden Movie</td>\n",
       "      <td>Sep 2020 - Sep 2020</td>\n",
       "      <td>https://myanimelist.net/anime/37987/Violet_Eve...</td>\n",
       "      <td>Movie</td>\n",
       "      <td>1</td>\n",
       "      <td>528406</td>\n",
       "      <td>Sep 2020</td>\n",
       "      <td>2020-09-01</td>\n",
       "      <td>2020-09-01</td>\n",
       "    </tr>\n",
       "    <tr>\n",
       "      <th>21</th>\n",
       "      <td>22</td>\n",
       "      <td>8.89</td>\n",
       "      <td>Bocchi the Rock!</td>\n",
       "      <td>Oct 2022 - Dec 2022</td>\n",
       "      <td>https://myanimelist.net/anime/47917/Bocchi_the...</td>\n",
       "      <td>TV</td>\n",
       "      <td>12</td>\n",
       "      <td>369688</td>\n",
       "      <td>Oct 2022</td>\n",
       "      <td>2022-12-01</td>\n",
       "      <td>2022-10-01</td>\n",
       "    </tr>\n",
       "    <tr>\n",
       "      <th>22</th>\n",
       "      <td>23</td>\n",
       "      <td>8.88</td>\n",
       "      <td>Gintama.: Shirogane no Tamashii-hen - Kouhan-sen</td>\n",
       "      <td>Jul 2018 - Oct 2018</td>\n",
       "      <td>https://myanimelist.net/anime/37491/Gintama__S...</td>\n",
       "      <td>TV</td>\n",
       "      <td>14</td>\n",
       "      <td>181681</td>\n",
       "      <td>Jul 2018</td>\n",
       "      <td>2018-10-01</td>\n",
       "      <td>2018-07-01</td>\n",
       "    </tr>\n",
       "    <tr>\n",
       "      <th>23</th>\n",
       "      <td>24</td>\n",
       "      <td>8.88</td>\n",
       "      <td>Owarimonogatari 2nd Season</td>\n",
       "      <td>Aug 2017 - Aug 2017</td>\n",
       "      <td>https://myanimelist.net/anime/35247/Owarimonog...</td>\n",
       "      <td>TV</td>\n",
       "      <td>7</td>\n",
       "      <td>374512</td>\n",
       "      <td>Aug 2017</td>\n",
       "      <td>2017-08-01</td>\n",
       "      <td>2017-08-01</td>\n",
       "    </tr>\n",
       "    <tr>\n",
       "      <th>24</th>\n",
       "      <td>25</td>\n",
       "      <td>8.87</td>\n",
       "      <td>Kaguya-sama wa Kokurasetai: First Kiss wa Owar...</td>\n",
       "      <td>Dec 2022 - Dec 2022</td>\n",
       "      <td>https://myanimelist.net/anime/52198/Kaguya-sam...</td>\n",
       "      <td>Movie</td>\n",
       "      <td>1</td>\n",
       "      <td>112121</td>\n",
       "      <td>Dec 2022</td>\n",
       "      <td>2022-12-01</td>\n",
       "      <td>2022-12-01</td>\n",
       "    </tr>\n",
       "    <tr>\n",
       "      <th>25</th>\n",
       "      <td>26</td>\n",
       "      <td>8.86</td>\n",
       "      <td>Monster</td>\n",
       "      <td>Apr 2004 - Sep 2005</td>\n",
       "      <td>https://myanimelist.net/anime/19/Monster</td>\n",
       "      <td>TV</td>\n",
       "      <td>74</td>\n",
       "      <td>980216</td>\n",
       "      <td>Apr 2004</td>\n",
       "      <td>2005-09-01</td>\n",
       "      <td>2004-04-01</td>\n",
       "    </tr>\n",
       "    <tr>\n",
       "      <th>26</th>\n",
       "      <td>27</td>\n",
       "      <td>8.85</td>\n",
       "      <td>Kimi no Na wa.</td>\n",
       "      <td>Aug 2016 - Aug 2016</td>\n",
       "      <td>https://myanimelist.net/anime/32281/Kimi_no_Na_wa</td>\n",
       "      <td>Movie</td>\n",
       "      <td>1</td>\n",
       "      <td>2550602</td>\n",
       "      <td>Aug 2016</td>\n",
       "      <td>2016-08-01</td>\n",
       "      <td>2016-08-01</td>\n",
       "    </tr>\n",
       "    <tr>\n",
       "      <th>27</th>\n",
       "      <td>28</td>\n",
       "      <td>8.81</td>\n",
       "      <td>Gintama.: Shirogane no Tamashii-hen</td>\n",
       "      <td>Jan 2018 - Mar 2018</td>\n",
       "      <td>https://myanimelist.net/anime/36838/Gintama__S...</td>\n",
       "      <td>TV</td>\n",
       "      <td>12</td>\n",
       "      <td>196124</td>\n",
       "      <td>Jan 2018</td>\n",
       "      <td>2018-03-01</td>\n",
       "      <td>2018-01-01</td>\n",
       "    </tr>\n",
       "    <tr>\n",
       "      <th>28</th>\n",
       "      <td>29</td>\n",
       "      <td>8.81</td>\n",
       "      <td>Kimetsu no Yaiba: Yuukaku-hen</td>\n",
       "      <td>Dec 2021 - Feb 2022</td>\n",
       "      <td>https://myanimelist.net/anime/47778/Kimetsu_no...</td>\n",
       "      <td>TV</td>\n",
       "      <td>11</td>\n",
       "      <td>1174905</td>\n",
       "      <td>Dec 2021</td>\n",
       "      <td>2022-02-01</td>\n",
       "      <td>2021-12-01</td>\n",
       "    </tr>\n",
       "    <tr>\n",
       "      <th>29</th>\n",
       "      <td>30</td>\n",
       "      <td>8.81</td>\n",
       "      <td>Kingdom 3rd Season</td>\n",
       "      <td>Apr 2020 - Oct 2021</td>\n",
       "      <td>https://myanimelist.net/anime/40682/Kingdom_3r...</td>\n",
       "      <td>TV</td>\n",
       "      <td>26</td>\n",
       "      <td>87976</td>\n",
       "      <td>Apr 2020</td>\n",
       "      <td>2021-10-01</td>\n",
       "      <td>2020-04-01</td>\n",
       "    </tr>\n",
       "    <tr>\n",
       "      <th>30</th>\n",
       "      <td>31</td>\n",
       "      <td>8.80</td>\n",
       "      <td>Mob Psycho 100 II</td>\n",
       "      <td>Jan 2019 - Apr 2019</td>\n",
       "      <td>https://myanimelist.net/anime/37510/Mob_Psycho...</td>\n",
       "      <td>TV</td>\n",
       "      <td>13</td>\n",
       "      <td>1402972</td>\n",
       "      <td>Jan 2019</td>\n",
       "      <td>2019-04-01</td>\n",
       "      <td>2019-01-01</td>\n",
       "    </tr>\n",
       "    <tr>\n",
       "      <th>31</th>\n",
       "      <td>32</td>\n",
       "      <td>8.80</td>\n",
       "      <td>Shingeki no Kyojin: The Final Season</td>\n",
       "      <td>Dec 2020 - Mar 2021</td>\n",
       "      <td>https://myanimelist.net/anime/40028/Shingeki_n...</td>\n",
       "      <td>TV</td>\n",
       "      <td>16</td>\n",
       "      <td>1802499</td>\n",
       "      <td>Dec 2020</td>\n",
       "      <td>2021-03-01</td>\n",
       "      <td>2020-12-01</td>\n",
       "    </tr>\n",
       "    <tr>\n",
       "      <th>32</th>\n",
       "      <td>33</td>\n",
       "      <td>8.79</td>\n",
       "      <td>Kizumonogatari III: Reiketsu-hen</td>\n",
       "      <td>Jan 2017 - Jan 2017</td>\n",
       "      <td>https://myanimelist.net/anime/31758/Kizumonoga...</td>\n",
       "      <td>Movie</td>\n",
       "      <td>1</td>\n",
       "      <td>433371</td>\n",
       "      <td>Jan 2017</td>\n",
       "      <td>2017-01-01</td>\n",
       "      <td>2017-01-01</td>\n",
       "    </tr>\n",
       "    <tr>\n",
       "      <th>33</th>\n",
       "      <td>34</td>\n",
       "      <td>8.78</td>\n",
       "      <td>Sen to Chihiro no Kamikakushi</td>\n",
       "      <td>Jul 2001 - Jul 2001</td>\n",
       "      <td>https://myanimelist.net/anime/199/Sen_to_Chihi...</td>\n",
       "      <td>Movie</td>\n",
       "      <td>1</td>\n",
       "      <td>1732399</td>\n",
       "      <td>Jul 2001</td>\n",
       "      <td>2001-07-01</td>\n",
       "      <td>2001-07-01</td>\n",
       "    </tr>\n",
       "    <tr>\n",
       "      <th>34</th>\n",
       "      <td>35</td>\n",
       "      <td>8.78</td>\n",
       "      <td>Haikyuu!! Karasuno Koukou vs. Shiratorizawa Ga...</td>\n",
       "      <td>Oct 2016 - Dec 2016</td>\n",
       "      <td>https://myanimelist.net/anime/32935/Haikyuu_Ka...</td>\n",
       "      <td>TV</td>\n",
       "      <td>10</td>\n",
       "      <td>1123213</td>\n",
       "      <td>Oct 2016</td>\n",
       "      <td>2016-12-01</td>\n",
       "      <td>2016-10-01</td>\n",
       "    </tr>\n",
       "    <tr>\n",
       "      <th>35</th>\n",
       "      <td>36</td>\n",
       "      <td>8.77</td>\n",
       "      <td>Monogatari Series: Second Season</td>\n",
       "      <td>Jul 2013 - Dec 2013</td>\n",
       "      <td>https://myanimelist.net/anime/17074/Monogatari...</td>\n",
       "      <td>TV</td>\n",
       "      <td>26</td>\n",
       "      <td>640809</td>\n",
       "      <td>Jul 2013</td>\n",
       "      <td>2013-12-01</td>\n",
       "      <td>2013-07-01</td>\n",
       "    </tr>\n",
       "    <tr>\n",
       "      <th>36</th>\n",
       "      <td>37</td>\n",
       "      <td>8.77</td>\n",
       "      <td>Shingeki no Kyojin: The Final Season Part 2</td>\n",
       "      <td>Jan 2022 - Apr 2022</td>\n",
       "      <td>https://myanimelist.net/anime/48583/Shingeki_n...</td>\n",
       "      <td>TV</td>\n",
       "      <td>12</td>\n",
       "      <td>1088244</td>\n",
       "      <td>Jan 2022</td>\n",
       "      <td>2022-04-01</td>\n",
       "      <td>2022-01-01</td>\n",
       "    </tr>\n",
       "    <tr>\n",
       "      <th>37</th>\n",
       "      <td>38</td>\n",
       "      <td>8.76</td>\n",
       "      <td>Hajime no Ippo</td>\n",
       "      <td>Oct 2000 - Mar 2002</td>\n",
       "      <td>https://myanimelist.net/anime/263/Hajime_no_Ippo</td>\n",
       "      <td>TV</td>\n",
       "      <td>75</td>\n",
       "      <td>533821</td>\n",
       "      <td>Oct 2000</td>\n",
       "      <td>2002-03-01</td>\n",
       "      <td>2000-10-01</td>\n",
       "    </tr>\n",
       "    <tr>\n",
       "      <th>38</th>\n",
       "      <td>39</td>\n",
       "      <td>8.75</td>\n",
       "      <td>Cowboy Bebop</td>\n",
       "      <td>Apr 1998 - Apr 1999</td>\n",
       "      <td>https://myanimelist.net/anime/1/Cowboy_Bebop</td>\n",
       "      <td>TV</td>\n",
       "      <td>26</td>\n",
       "      <td>1743668</td>\n",
       "      <td>Apr 1998</td>\n",
       "      <td>1999-04-01</td>\n",
       "      <td>1998-04-01</td>\n",
       "    </tr>\n",
       "    <tr>\n",
       "      <th>39</th>\n",
       "      <td>40</td>\n",
       "      <td>8.75</td>\n",
       "      <td>Kingdom 4th Season</td>\n",
       "      <td>Apr 2022 - Oct 2022</td>\n",
       "      <td>https://myanimelist.net/anime/50160/Kingdom_4t...</td>\n",
       "      <td>TV</td>\n",
       "      <td>26</td>\n",
       "      <td>50799</td>\n",
       "      <td>Apr 2022</td>\n",
       "      <td>2022-10-01</td>\n",
       "      <td>2022-04-01</td>\n",
       "    </tr>\n",
       "    <tr>\n",
       "      <th>40</th>\n",
       "      <td>41</td>\n",
       "      <td>8.74</td>\n",
       "      <td>Shiguang Dailiren</td>\n",
       "      <td>Apr 2021 - Jul 2021</td>\n",
       "      <td>https://myanimelist.net/anime/44074/Shiguang_D...</td>\n",
       "      <td>ONA</td>\n",
       "      <td>11</td>\n",
       "      <td>282659</td>\n",
       "      <td>Apr 2021</td>\n",
       "      <td>2021-07-01</td>\n",
       "      <td>2021-04-01</td>\n",
       "    </tr>\n",
       "    <tr>\n",
       "      <th>41</th>\n",
       "      <td>42</td>\n",
       "      <td>8.73</td>\n",
       "      <td>Mob Psycho 100 III</td>\n",
       "      <td>Oct 2022 - Dec 2022</td>\n",
       "      <td>https://myanimelist.net/anime/50172/Mob_Psycho...</td>\n",
       "      <td>TV</td>\n",
       "      <td>12</td>\n",
       "      <td>533358</td>\n",
       "      <td>Oct 2022</td>\n",
       "      <td>2022-12-01</td>\n",
       "      <td>2022-10-01</td>\n",
       "    </tr>\n",
       "    <tr>\n",
       "      <th>42</th>\n",
       "      <td>43</td>\n",
       "      <td>8.73</td>\n",
       "      <td>Mushishi Zoku Shou 2nd Season</td>\n",
       "      <td>Oct 2014 - Dec 2014</td>\n",
       "      <td>https://myanimelist.net/anime/24701/Mushishi_Z...</td>\n",
       "      <td>TV</td>\n",
       "      <td>10</td>\n",
       "      <td>251368</td>\n",
       "      <td>Oct 2014</td>\n",
       "      <td>2014-12-01</td>\n",
       "      <td>2014-10-01</td>\n",
       "    </tr>\n",
       "    <tr>\n",
       "      <th>43</th>\n",
       "      <td>44</td>\n",
       "      <td>8.73</td>\n",
       "      <td>Shouwa Genroku Rakugo Shinjuu: Sukeroku Futata...</td>\n",
       "      <td>Jan 2017 - Mar 2017</td>\n",
       "      <td>https://myanimelist.net/anime/33095/Shouwa_Gen...</td>\n",
       "      <td>TV</td>\n",
       "      <td>12</td>\n",
       "      <td>178576</td>\n",
       "      <td>Jan 2017</td>\n",
       "      <td>2017-03-01</td>\n",
       "      <td>2017-01-01</td>\n",
       "    </tr>\n",
       "    <tr>\n",
       "      <th>44</th>\n",
       "      <td>45</td>\n",
       "      <td>8.73</td>\n",
       "      <td>Vinland Saga</td>\n",
       "      <td>Jul 2019 - Dec 2019</td>\n",
       "      <td>https://myanimelist.net/anime/37521/Vinland_Saga</td>\n",
       "      <td>TV</td>\n",
       "      <td>24</td>\n",
       "      <td>1305309</td>\n",
       "      <td>Jul 2019</td>\n",
       "      <td>2019-12-01</td>\n",
       "      <td>2019-07-01</td>\n",
       "    </tr>\n",
       "    <tr>\n",
       "      <th>45</th>\n",
       "      <td>46</td>\n",
       "      <td>8.71</td>\n",
       "      <td>86 Part 2</td>\n",
       "      <td>Oct 2021 - Mar 2022</td>\n",
       "      <td>https://myanimelist.net/anime/48569/86_Part_2</td>\n",
       "      <td>TV</td>\n",
       "      <td>12</td>\n",
       "      <td>411422</td>\n",
       "      <td>Oct 2021</td>\n",
       "      <td>2022-03-01</td>\n",
       "      <td>2021-10-01</td>\n",
       "    </tr>\n",
       "    <tr>\n",
       "      <th>46</th>\n",
       "      <td>47</td>\n",
       "      <td>8.71</td>\n",
       "      <td>Ashita no Joe 2</td>\n",
       "      <td>Oct 1980 - Aug 1981</td>\n",
       "      <td>https://myanimelist.net/anime/2921/Ashita_no_J...</td>\n",
       "      <td>TV</td>\n",
       "      <td>47</td>\n",
       "      <td>46660</td>\n",
       "      <td>Oct 1980</td>\n",
       "      <td>1981-08-01</td>\n",
       "      <td>1980-10-01</td>\n",
       "    </tr>\n",
       "    <tr>\n",
       "      <th>47</th>\n",
       "      <td>48</td>\n",
       "      <td>8.71</td>\n",
       "      <td>Rurouni Kenshin: Meiji Kenkaku Romantan - Tsui...</td>\n",
       "      <td>Feb 1999 - Sep 1999</td>\n",
       "      <td>https://myanimelist.net/anime/44/Rurouni_Kensh...</td>\n",
       "      <td>OVA</td>\n",
       "      <td>4</td>\n",
       "      <td>266582</td>\n",
       "      <td>Feb 1999</td>\n",
       "      <td>1999-09-01</td>\n",
       "      <td>1999-02-01</td>\n",
       "    </tr>\n",
       "    <tr>\n",
       "      <th>48</th>\n",
       "      <td>49</td>\n",
       "      <td>8.70</td>\n",
       "      <td>Mushishi Zoku Shou</td>\n",
       "      <td>Apr 2014 - Jun 2014</td>\n",
       "      <td>https://myanimelist.net/anime/21939/Mushishi_Z...</td>\n",
       "      <td>TV</td>\n",
       "      <td>10</td>\n",
       "      <td>284789</td>\n",
       "      <td>Apr 2014</td>\n",
       "      <td>2014-06-01</td>\n",
       "      <td>2014-04-01</td>\n",
       "    </tr>\n",
       "    <tr>\n",
       "      <th>49</th>\n",
       "      <td>50</td>\n",
       "      <td>8.70</td>\n",
       "      <td>Mushoku Tensei: Isekai Ittara Honki Dasu Part 2</td>\n",
       "      <td>Oct 2021 - Dec 2021</td>\n",
       "      <td>https://myanimelist.net/anime/45576/Mushoku_Te...</td>\n",
       "      <td>TV</td>\n",
       "      <td>12</td>\n",
       "      <td>752724</td>\n",
       "      <td>Oct 2021</td>\n",
       "      <td>2021-12-01</td>\n",
       "      <td>2021-10-01</td>\n",
       "    </tr>\n",
       "  </tbody>\n",
       "</table>\n",
       "</div>"
      ],
      "text/plain": [
       "   ranking score                                              title  \\\n",
       "0        1  9.13  Shingeki no Kyojin: The Final Season - Kankets...   \n",
       "1        2  9.11                   Fullmetal Alchemist: Brotherhood   \n",
       "2        3  9.08                          Bleach: Sennen Kessen-hen   \n",
       "3        4  9.08                                        Steins;Gate   \n",
       "4        5  9.07                                           Gintama°   \n",
       "5        6  9.06         Kaguya-sama wa Kokurasetai: Ultra Romantic   \n",
       "6        7  9.06                 Shingeki no Kyojin Season 3 Part 2   \n",
       "7        8  9.05                                 Gintama: The Final   \n",
       "8        9  9.04                                           Gintama'   \n",
       "9       10  9.04                             Hunter x Hunter (2011)   \n",
       "10      11  9.03                               Ginga Eiyuu Densetsu   \n",
       "11      12  9.03                                Gintama': Enchousen   \n",
       "12      13  9.01                           Fruits Basket: The Final   \n",
       "13      14  8.99                                           Gintama.   \n",
       "14      15  8.94                         3-gatsu no Lion 2nd Season   \n",
       "15      16  8.94                                            Gintama   \n",
       "16      17  8.94                                     Koe no Katachi   \n",
       "17      18  8.93                               Clannad: After Story   \n",
       "18      19  8.92  Gintama Movie 2: Kanketsu-hen - Yorozuya yo Ei...   \n",
       "19      20  8.91                 Code Geass: Hangyaku no Lelouch R2   \n",
       "20      21  8.91                            Violet Evergarden Movie   \n",
       "21      22  8.89                                   Bocchi the Rock!   \n",
       "22      23  8.88   Gintama.: Shirogane no Tamashii-hen - Kouhan-sen   \n",
       "23      24  8.88                         Owarimonogatari 2nd Season   \n",
       "24      25  8.87  Kaguya-sama wa Kokurasetai: First Kiss wa Owar...   \n",
       "25      26  8.86                                            Monster   \n",
       "26      27  8.85                                     Kimi no Na wa.   \n",
       "27      28  8.81                Gintama.: Shirogane no Tamashii-hen   \n",
       "28      29  8.81                      Kimetsu no Yaiba: Yuukaku-hen   \n",
       "29      30  8.81                                 Kingdom 3rd Season   \n",
       "30      31  8.80                                  Mob Psycho 100 II   \n",
       "31      32  8.80               Shingeki no Kyojin: The Final Season   \n",
       "32      33  8.79                   Kizumonogatari III: Reiketsu-hen   \n",
       "33      34  8.78                      Sen to Chihiro no Kamikakushi   \n",
       "34      35  8.78  Haikyuu!! Karasuno Koukou vs. Shiratorizawa Ga...   \n",
       "35      36  8.77                   Monogatari Series: Second Season   \n",
       "36      37  8.77        Shingeki no Kyojin: The Final Season Part 2   \n",
       "37      38  8.76                                     Hajime no Ippo   \n",
       "38      39  8.75                                       Cowboy Bebop   \n",
       "39      40  8.75                                 Kingdom 4th Season   \n",
       "40      41  8.74                                  Shiguang Dailiren   \n",
       "41      42  8.73                                 Mob Psycho 100 III   \n",
       "42      43  8.73                      Mushishi Zoku Shou 2nd Season   \n",
       "43      44  8.73  Shouwa Genroku Rakugo Shinjuu: Sukeroku Futata...   \n",
       "44      45  8.73                                       Vinland Saga   \n",
       "45      46  8.71                                          86 Part 2   \n",
       "46      47  8.71                                    Ashita no Joe 2   \n",
       "47      48  8.71  Rurouni Kenshin: Meiji Kenkaku Romantan - Tsui...   \n",
       "48      49  8.70                                 Mushishi Zoku Shou   \n",
       "49      50  8.70    Mushoku Tensei: Isekai Ittara Honki Dasu Part 2   \n",
       "\n",
       "          emission_date                                                url  \\\n",
       "0       Mar 2023 - 2023  https://myanimelist.net/anime/51535/Shingeki_n...   \n",
       "1   Apr 2009 - Jul 2010  https://myanimelist.net/anime/5114/Fullmetal_A...   \n",
       "2   Oct 2022 - Dec 2022  https://myanimelist.net/anime/41467/Bleach__Se...   \n",
       "3   Apr 2011 - Sep 2011     https://myanimelist.net/anime/9253/Steins_Gate   \n",
       "4   Apr 2015 - Mar 2016       https://myanimelist.net/anime/28977/Gintama°   \n",
       "5   Apr 2022 - Jun 2022  https://myanimelist.net/anime/43608/Kaguya-sam...   \n",
       "6   Apr 2019 - Jul 2019  https://myanimelist.net/anime/38524/Shingeki_n...   \n",
       "7   Jan 2021 - Jan 2021  https://myanimelist.net/anime/39486/Gintama__T...   \n",
       "8   Apr 2011 - Mar 2012         https://myanimelist.net/anime/9969/Gintama   \n",
       "9   Oct 2011 - Sep 2014  https://myanimelist.net/anime/11061/Hunter_x_H...   \n",
       "10  Jan 1988 - Mar 1997  https://myanimelist.net/anime/820/Ginga_Eiyuu_...   \n",
       "11  Oct 2012 - Mar 2013  https://myanimelist.net/anime/15417/Gintama__E...   \n",
       "12  Apr 2021 - Jun 2021  https://myanimelist.net/anime/42938/Fruits_Bas...   \n",
       "13  Jan 2017 - Mar 2017        https://myanimelist.net/anime/34096/Gintama   \n",
       "14  Oct 2017 - Mar 2018  https://myanimelist.net/anime/35180/3-gatsu_no...   \n",
       "15  Apr 2006 - Mar 2010          https://myanimelist.net/anime/918/Gintama   \n",
       "16  Sep 2016 - Sep 2016  https://myanimelist.net/anime/28851/Koe_no_Kat...   \n",
       "17  Oct 2008 - Mar 2009  https://myanimelist.net/anime/4181/Clannad__Af...   \n",
       "18  Jul 2013 - Jul 2013  https://myanimelist.net/anime/15335/Gintama_Mo...   \n",
       "19  Apr 2008 - Sep 2008  https://myanimelist.net/anime/2904/Code_Geass_...   \n",
       "20  Sep 2020 - Sep 2020  https://myanimelist.net/anime/37987/Violet_Eve...   \n",
       "21  Oct 2022 - Dec 2022  https://myanimelist.net/anime/47917/Bocchi_the...   \n",
       "22  Jul 2018 - Oct 2018  https://myanimelist.net/anime/37491/Gintama__S...   \n",
       "23  Aug 2017 - Aug 2017  https://myanimelist.net/anime/35247/Owarimonog...   \n",
       "24  Dec 2022 - Dec 2022  https://myanimelist.net/anime/52198/Kaguya-sam...   \n",
       "25  Apr 2004 - Sep 2005           https://myanimelist.net/anime/19/Monster   \n",
       "26  Aug 2016 - Aug 2016  https://myanimelist.net/anime/32281/Kimi_no_Na_wa   \n",
       "27  Jan 2018 - Mar 2018  https://myanimelist.net/anime/36838/Gintama__S...   \n",
       "28  Dec 2021 - Feb 2022  https://myanimelist.net/anime/47778/Kimetsu_no...   \n",
       "29  Apr 2020 - Oct 2021  https://myanimelist.net/anime/40682/Kingdom_3r...   \n",
       "30  Jan 2019 - Apr 2019  https://myanimelist.net/anime/37510/Mob_Psycho...   \n",
       "31  Dec 2020 - Mar 2021  https://myanimelist.net/anime/40028/Shingeki_n...   \n",
       "32  Jan 2017 - Jan 2017  https://myanimelist.net/anime/31758/Kizumonoga...   \n",
       "33  Jul 2001 - Jul 2001  https://myanimelist.net/anime/199/Sen_to_Chihi...   \n",
       "34  Oct 2016 - Dec 2016  https://myanimelist.net/anime/32935/Haikyuu_Ka...   \n",
       "35  Jul 2013 - Dec 2013  https://myanimelist.net/anime/17074/Monogatari...   \n",
       "36  Jan 2022 - Apr 2022  https://myanimelist.net/anime/48583/Shingeki_n...   \n",
       "37  Oct 2000 - Mar 2002   https://myanimelist.net/anime/263/Hajime_no_Ippo   \n",
       "38  Apr 1998 - Apr 1999       https://myanimelist.net/anime/1/Cowboy_Bebop   \n",
       "39  Apr 2022 - Oct 2022  https://myanimelist.net/anime/50160/Kingdom_4t...   \n",
       "40  Apr 2021 - Jul 2021  https://myanimelist.net/anime/44074/Shiguang_D...   \n",
       "41  Oct 2022 - Dec 2022  https://myanimelist.net/anime/50172/Mob_Psycho...   \n",
       "42  Oct 2014 - Dec 2014  https://myanimelist.net/anime/24701/Mushishi_Z...   \n",
       "43  Jan 2017 - Mar 2017  https://myanimelist.net/anime/33095/Shouwa_Gen...   \n",
       "44  Jul 2019 - Dec 2019   https://myanimelist.net/anime/37521/Vinland_Saga   \n",
       "45  Oct 2021 - Mar 2022      https://myanimelist.net/anime/48569/86_Part_2   \n",
       "46  Oct 1980 - Aug 1981  https://myanimelist.net/anime/2921/Ashita_no_J...   \n",
       "47  Feb 1999 - Sep 1999  https://myanimelist.net/anime/44/Rurouni_Kensh...   \n",
       "48  Apr 2014 - Jun 2014  https://myanimelist.net/anime/21939/Mushishi_Z...   \n",
       "49  Oct 2021 - Dec 2021  https://myanimelist.net/anime/45576/Mushoku_Te...   \n",
       "\n",
       "   emission_type number_episode   members first_emission_y last_emission  \\\n",
       "0       Special               2   370241          Mar 2023           NaT   \n",
       "1            TV              64  3119535          Apr 2009    2010-07-01   \n",
       "2            TV              13   410998          Oct 2022    2022-12-01   \n",
       "3            TV              24  2400946          Apr 2011    2011-09-01   \n",
       "4            TV              51   584045          Apr 2015    2016-03-01   \n",
       "5            TV              13   780136          Apr 2022    2022-06-01   \n",
       "6            TV              10  2055884          Apr 2019    2019-07-01   \n",
       "7         Movie               1   127620          Jan 2021    2021-01-01   \n",
       "8            TV              51   515388          Apr 2011    2012-03-01   \n",
       "9            TV             148  2607039          Oct 2011    2014-09-01   \n",
       "10          OVA             110   300725          Jan 1988    1997-03-01   \n",
       "11           TV              13   304118          Oct 2012    2013-03-01   \n",
       "12           TV              13   415958          Apr 2021    2021-06-01   \n",
       "13           TV              12   292460          Jan 2017    2017-03-01   \n",
       "14           TV              22   377810          Oct 2017    2018-03-01   \n",
       "15           TV             201  1009830          Apr 2006    2010-03-01   \n",
       "16        Movie               1  2151632          Sep 2016    2016-09-01   \n",
       "17           TV              24  1136709          Oct 2008    2009-03-01   \n",
       "18        Movie               1   225753          Jul 2013    2013-07-01   \n",
       "19           TV              25  1675389          Apr 2008    2008-09-01   \n",
       "20        Movie               1   528406          Sep 2020    2020-09-01   \n",
       "21           TV              12   369688          Oct 2022    2022-12-01   \n",
       "22           TV              14   181681          Jul 2018    2018-10-01   \n",
       "23           TV               7   374512          Aug 2017    2017-08-01   \n",
       "24        Movie               1   112121          Dec 2022    2022-12-01   \n",
       "25           TV              74   980216          Apr 2004    2005-09-01   \n",
       "26        Movie               1  2550602          Aug 2016    2016-08-01   \n",
       "27           TV              12   196124          Jan 2018    2018-03-01   \n",
       "28           TV              11  1174905          Dec 2021    2022-02-01   \n",
       "29           TV              26    87976          Apr 2020    2021-10-01   \n",
       "30           TV              13  1402972          Jan 2019    2019-04-01   \n",
       "31           TV              16  1802499          Dec 2020    2021-03-01   \n",
       "32        Movie               1   433371          Jan 2017    2017-01-01   \n",
       "33        Movie               1  1732399          Jul 2001    2001-07-01   \n",
       "34           TV              10  1123213          Oct 2016    2016-12-01   \n",
       "35           TV              26   640809          Jul 2013    2013-12-01   \n",
       "36           TV              12  1088244          Jan 2022    2022-04-01   \n",
       "37           TV              75   533821          Oct 2000    2002-03-01   \n",
       "38           TV              26  1743668          Apr 1998    1999-04-01   \n",
       "39           TV              26    50799          Apr 2022    2022-10-01   \n",
       "40          ONA              11   282659          Apr 2021    2021-07-01   \n",
       "41           TV              12   533358          Oct 2022    2022-12-01   \n",
       "42           TV              10   251368          Oct 2014    2014-12-01   \n",
       "43           TV              12   178576          Jan 2017    2017-03-01   \n",
       "44           TV              24  1305309          Jul 2019    2019-12-01   \n",
       "45           TV              12   411422          Oct 2021    2022-03-01   \n",
       "46           TV              47    46660          Oct 1980    1981-08-01   \n",
       "47          OVA               4   266582          Feb 1999    1999-09-01   \n",
       "48           TV              10   284789          Apr 2014    2014-06-01   \n",
       "49           TV              12   752724          Oct 2021    2021-12-01   \n",
       "\n",
       "   first_emission  \n",
       "0      2023-03-01  \n",
       "1      2009-04-01  \n",
       "2      2022-10-01  \n",
       "3      2011-04-01  \n",
       "4      2015-04-01  \n",
       "5      2022-04-01  \n",
       "6      2019-04-01  \n",
       "7      2021-01-01  \n",
       "8      2011-04-01  \n",
       "9      2011-10-01  \n",
       "10     1988-01-01  \n",
       "11     2012-10-01  \n",
       "12     2021-04-01  \n",
       "13     2017-01-01  \n",
       "14     2017-10-01  \n",
       "15     2006-04-01  \n",
       "16     2016-09-01  \n",
       "17     2008-10-01  \n",
       "18     2013-07-01  \n",
       "19     2008-04-01  \n",
       "20     2020-09-01  \n",
       "21     2022-10-01  \n",
       "22     2018-07-01  \n",
       "23     2017-08-01  \n",
       "24     2022-12-01  \n",
       "25     2004-04-01  \n",
       "26     2016-08-01  \n",
       "27     2018-01-01  \n",
       "28     2021-12-01  \n",
       "29     2020-04-01  \n",
       "30     2019-01-01  \n",
       "31     2020-12-01  \n",
       "32     2017-01-01  \n",
       "33     2001-07-01  \n",
       "34     2016-10-01  \n",
       "35     2013-07-01  \n",
       "36     2022-01-01  \n",
       "37     2000-10-01  \n",
       "38     1998-04-01  \n",
       "39     2022-04-01  \n",
       "40     2021-04-01  \n",
       "41     2022-10-01  \n",
       "42     2014-10-01  \n",
       "43     2017-01-01  \n",
       "44     2019-07-01  \n",
       "45     2021-10-01  \n",
       "46     1980-10-01  \n",
       "47     1999-02-01  \n",
       "48     2014-04-01  \n",
       "49     2021-10-01  "
      ]
     },
     "execution_count": 114,
     "metadata": {},
     "output_type": "execute_result"
    }
   ],
   "source": [
    "top_anime"
   ]
  }
 ],
 "metadata": {
  "kernelspec": {
   "display_name": "Python 3 (ipykernel)",
   "language": "python",
   "name": "python3"
  },
  "language_info": {
   "codemirror_mode": {
    "name": "ipython",
    "version": 3
   },
   "file_extension": ".py",
   "mimetype": "text/x-python",
   "name": "python",
   "nbconvert_exporter": "python",
   "pygments_lexer": "ipython3",
   "version": "3.10.9"
  }
 },
 "nbformat": 4,
 "nbformat_minor": 5
}
