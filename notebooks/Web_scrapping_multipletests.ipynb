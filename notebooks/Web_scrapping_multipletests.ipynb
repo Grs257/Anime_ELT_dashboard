{
 "cells": [
  {
   "cell_type": "markdown",
   "id": "f0268469-fb31-4c18-b7a1-d99ceae58ff3",
   "metadata": {},
   "source": [
    "# Web scrapping multiple tests"
   ]
  },
  {
   "cell_type": "code",
   "execution_count": 1,
   "id": "8450543d-299d-4a31-9671-86ec60365895",
   "metadata": {
    "tags": []
   },
   "outputs": [],
   "source": [
    "# Import required libraries\n",
    "import requests\n",
    "from bs4 import BeautifulSoup\n",
    "import pandas as pd"
   ]
  },
  {
   "cell_type": "code",
   "execution_count": 39,
   "id": "86c10785-f55e-479f-94b2-3c6ef496f593",
   "metadata": {
    "tags": []
   },
   "outputs": [],
   "source": [
    "#Function to send an HTTP request and parse the HTML content of the page\n",
    "def fetch_html(url):\n",
    "    response = requests.get(url)  # Send an HTTP GET request to the URL\n",
    "    if response.status_code == 200:  # Check if the request was successful (status code 200)\n",
    "        # Parse the response content with BeautifulSoup and return the parsed HTML\n",
    "        return BeautifulSoup(response.content, 'lxml')\n",
    "    else:\n",
    "        return None"
   ]
  },
  {
   "cell_type": "code",
   "execution_count": 7,
   "id": "59dc2eb1-3dab-487f-be51-83a98fa36cd3",
   "metadata": {
    "tags": []
   },
   "outputs": [],
   "source": [
    "url = \"https://myanimelist.net/topanime.php\"  # Define the target URL\n",
    "soup = fetch_html(url)  # Fetch and parse the HTML content from the URL"
   ]
  },
  {
   "cell_type": "markdown",
   "id": "ff2d3c75-192a-4a1d-9ddc-238c3bed9e96",
   "metadata": {},
   "source": [
    "# Scrapping Shingeki no Kyojin"
   ]
  },
  {
   "cell_type": "markdown",
   "id": "2616857d-6290-4cb4-9636-f2ce54ca3cf1",
   "metadata": {
    "tags": []
   },
   "source": [
    "## Anime Ranking "
   ]
  },
  {
   "cell_type": "code",
   "execution_count": 36,
   "id": "419d3d86-a7bf-455c-8076-1527218d69fb",
   "metadata": {
    "tags": []
   },
   "outputs": [
    {
     "data": {
      "text/plain": [
       "'1'"
      ]
     },
     "execution_count": 36,
     "metadata": {},
     "output_type": "execute_result"
    }
   ],
   "source": [
    "soup.find('span',class_=\"lightLink top-anime-rank-text rank1\").text"
   ]
  },
  {
   "cell_type": "markdown",
   "id": "b5401ccb-692f-4d19-8918-36a333f79639",
   "metadata": {},
   "source": [
    "## Anime Score"
   ]
  },
  {
   "cell_type": "code",
   "execution_count": 38,
   "id": "8a130521-87a6-433d-998f-033021d976f2",
   "metadata": {
    "tags": []
   },
   "outputs": [
    {
     "data": {
      "text/plain": [
       "'9.13'"
      ]
     },
     "execution_count": 38,
     "metadata": {},
     "output_type": "execute_result"
    }
   ],
   "source": [
    "soup.find('span',class_=\"text on score-label score-9\").text"
   ]
  },
  {
   "cell_type": "markdown",
   "id": "24f8b1f6-1513-4f88-b424-a15f648ceacb",
   "metadata": {},
   "source": [
    "### Anime name"
   ]
  },
  {
   "cell_type": "code",
   "execution_count": 23,
   "id": "ccc53f46-b340-4b9a-b91d-06db0df59d4a",
   "metadata": {
    "tags": []
   },
   "outputs": [
    {
     "data": {
      "text/plain": [
       "'Shingeki no Kyojin: The Final Season - Kanketsu-hen'"
      ]
     },
     "execution_count": 23,
     "metadata": {},
     "output_type": "execute_result"
    }
   ],
   "source": [
    "soup.find('div',class_=\"di-ib clearfix\").a.text"
   ]
  },
  {
   "cell_type": "markdown",
   "id": "df55152a-7333-46c2-b150-3fe23e95bdb7",
   "metadata": {},
   "source": [
    "### Anime URL"
   ]
  },
  {
   "cell_type": "code",
   "execution_count": 26,
   "id": "c8b7f260-ef87-4640-873f-1c664ef36340",
   "metadata": {
    "tags": []
   },
   "outputs": [
    {
     "data": {
      "text/plain": [
       "'https://myanimelist.net/anime/51535/Shingeki_no_Kyojin__The_Final_Season_-_Kanketsu-hen'"
      ]
     },
     "execution_count": 26,
     "metadata": {},
     "output_type": "execute_result"
    }
   ],
   "source": [
    "soup.find('div', class_=\"di-ib clearfix\").a['href']"
   ]
  },
  {
   "cell_type": "markdown",
   "id": "ebc1fffb-0d81-4e11-b7f1-10cfa9df0c99",
   "metadata": {},
   "source": [
    "### Number of episodes"
   ]
  },
  {
   "cell_type": "code",
   "execution_count": 29,
   "id": "31cf13d2-a7e0-44ea-9f90-fbe959c8704f",
   "metadata": {
    "tags": []
   },
   "outputs": [
    {
     "data": {
      "text/plain": [
       "'Special (2 eps)'"
      ]
     },
     "execution_count": 29,
     "metadata": {},
     "output_type": "execute_result"
    }
   ],
   "source": [
    "soup.find('div',class_=\"information di-ib mt4\").text.split('\\n')[1].strip()"
   ]
  },
  {
   "cell_type": "markdown",
   "id": "b49b9263-fbb1-41c1-b77f-0847c0f67de6",
   "metadata": {},
   "source": [
    "### Emission date"
   ]
  },
  {
   "cell_type": "code",
   "execution_count": 32,
   "id": "756377ce-6b1c-4f8c-8da4-6e51b9115222",
   "metadata": {
    "tags": []
   },
   "outputs": [
    {
     "data": {
      "text/plain": [
       "'Mar 2023 - 2023'"
      ]
     },
     "execution_count": 32,
     "metadata": {},
     "output_type": "execute_result"
    }
   ],
   "source": [
    "soup.find('div',class_=\"information di-ib mt4\").text.split('\\n')[2].strip()"
   ]
  },
  {
   "cell_type": "markdown",
   "id": "9646d36f-6006-4a2d-a8ed-db8ffcdcacdb",
   "metadata": {},
   "source": [
    "### Number of members"
   ]
  },
  {
   "cell_type": "code",
   "execution_count": 33,
   "id": "f7046e33-cff0-421b-aca4-264c49ba99a7",
   "metadata": {
    "tags": []
   },
   "outputs": [
    {
     "data": {
      "text/plain": [
       "'369,372 members'"
      ]
     },
     "execution_count": 33,
     "metadata": {},
     "output_type": "execute_result"
    }
   ],
   "source": [
    "soup.find('div',class_=\"information di-ib mt4\").text.split('\\n')[3].strip()"
   ]
  }
 ],
 "metadata": {
  "kernelspec": {
   "display_name": "Python 3 (ipykernel)",
   "language": "python",
   "name": "python3"
  },
  "language_info": {
   "codemirror_mode": {
    "name": "ipython",
    "version": 3
   },
   "file_extension": ".py",
   "mimetype": "text/x-python",
   "name": "python",
   "nbconvert_exporter": "python",
   "pygments_lexer": "ipython3",
   "version": "3.10.9"
  }
 },
 "nbformat": 4,
 "nbformat_minor": 5
}
